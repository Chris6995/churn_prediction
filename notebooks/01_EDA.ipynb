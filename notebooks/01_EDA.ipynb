{
 "cells": [
  {
   "cell_type": "markdown",
   "id": "3850e64c",
   "metadata": {},
   "source": [
    "# Análisis Exploratorio de Datos - Predicción de Churn\n",
    "\n",
    "Este notebook contiene el análisis exploratorio inicial de los datos de churn de clientes.\n",
    "\n",
    "## Contenido\n",
    "1. Carga de datos\n",
    "2. Análisis inicial y limpieza\n",
    "3. Visualización de distribuciones\n",
    "4. Análisis de correlaciones\n",
    "5. Conclusiones preliminares"
   ]
  },
  {
   "cell_type": "code",
   "execution_count": null,
   "id": "411d19b6",
   "metadata": {},
   "outputs": [],
   "source": [
    "# Importar librerías necesarias\n",
    "import pandas as pd\n",
    "import numpy as np\n",
    "import matplotlib.pyplot as plt\n",
    "import seaborn as sns\n",
    "\n",
    "# Configuración de visualización\n",
    "plt.style.use('seaborn')\n",
    "sns.set_palette(\"husl\")\n",
    "pd.set_option('display.max_columns', None)\n",
    "\n",
    "# Para ignorar warnings\n",
    "import warnings\n",
    "warnings.filterwarnings('ignore')"
   ]
  }
 ],
 "metadata": {
  "language_info": {
   "name": "python"
  }
 },
 "nbformat": 4,
 "nbformat_minor": 5
}
