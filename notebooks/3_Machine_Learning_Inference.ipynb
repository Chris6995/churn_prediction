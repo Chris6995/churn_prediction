{
 "cells": [
  {
   "cell_type": "markdown",
   "metadata": {
    "id": "EUXSDh8JGCLW"
   },
   "source": [
    "# Proyecto de Churn Prediction - Feature Eng"
   ]
  },
  {
   "cell_type": "markdown",
   "metadata": {
    "id": "qUlk5IPdR7vk"
   },
   "source": [
    "### Resumen transformaciones\n",
    "\n",
    "1. Limpieza básica (Antes del split)\n",
    "\n",
    " - Eliminar duplicados: df.drop_duplicates()\n",
    "\n",
    " - Corregir tipos de datos: convertir columnas mal tipadas (pd.to_numeric, pd.to_datetime)\n",
    "\n",
    " - Eliminar columnas irrelevantes (ej. customerID si no aporta valor)\n",
    "\n",
    "2. EDA y análisis inicial\n",
    "\n",
    "- Este paso es exploratorio, no modifica datos directamente, pero guía las decisiones posteriores\n",
    "\n",
    "3. Separar features y target\n",
    "\n",
    "4. Train/Test split\n",
    "\n",
    "5. Tratamiento de valores nulos (Solo en train - fit/transform)\n",
    "\n",
    "- Imputar numéricos: media o mediana\n",
    "\n",
    "- Imputar categóricos: moda o \"missing\"\n",
    "\n",
    "En valid/test: solo transform\n",
    "\n",
    "Se puede hacer aquí en el notebook o dentro del pipeline si lo vas a reutilizar.\n",
    "\n",
    "6. Outliers (opcional) (Solo en train)\n",
    "\n",
    "- Detectar con Z-score o IQR\n",
    "\n",
    "- Tratar si afectan mucho: eliminar o aplicar RobustScaler\n",
    "\n",
    "En valid/test: transformar igual (¡no eliminar filas en valid!)\n",
    "\n",
    "7. Corregir asimetría / skewness (Solo en train)\n",
    "\n",
    "- Aplicar np.log1p() o PowerTransformer si es necesario\n",
    "\n",
    "8. Encoding de variables categóricas (fit en train, transform en valid)\n",
    "\n",
    "- pd.get_dummies() o OneHotEncoder()\n",
    "\n",
    "- LabelEncoder() solo para variables ordinales o target\n",
    "\n",
    "9. Escalado de variables numéricas (fit en train, transform en valid)\n",
    "\n",
    "- StandardScaler() para modelos lineales, KNN, redes\n",
    "\n",
    "- RobustScaler() si hay outliers\n",
    "\n",
    "- No escalar si usas árboles (RandomForest, XGBoost...)\n",
    "\n",
    "10. Balanceo de clases ( Solo en train)\n",
    "\n",
    "- SMOTE, RandomOverSampler, etc.\n",
    "\n",
    "- O usar class_weight='balanced' en modelos compatibles\n",
    "\n",
    "11. Feature selection (fit en train, transform en valid)\n",
    "\n",
    "- Eliminar columnas irrelevantes o muy correlacionadas\n",
    "\n",
    "- Usar SelectKBest, RFE, o model.feature_importances_\n",
    "\n",
    "12. Feature engineering (crear nuevas variables)\n",
    "\n",
    "- Ratios, interacciones, extracciones...\n",
    "\n",
    "Se puede hacer antes del split o dentro del pipeline si necesitas reproducibilidad\n",
    "\n",
    "13. Validación y modelado\n",
    "\n",
    "Una vez tienes:\n",
    "\n",
    "- Datos imputados\n",
    "\n",
    "- Codificados\n",
    "\n",
    "- Escalados\n",
    "\n",
    "- Balanceados (en train)\n",
    "\n",
    "Ya puedes entrenar tu modelo y validarlo.\n",
    "\n",
    " 14. Crear pipeline de producción\n",
    "\n",
    "Agrupar todo lo anterior para predecir nuevos datos reales:\n"
   ]
  },
  {
   "cell_type": "markdown",
   "metadata": {
    "id": "cHfQGBN9KKUt"
   },
   "source": [
    "## Procesamiento y Feature Engineering\n",
    "\n",
    "En la parte de procesamiento y feature engineering hay que tener en cuenta que:\n",
    "\n",
    "- El objetivo es pasar de datos en crudo a datos listos para entrenar el modelo.\n",
    "\n",
    "- Muchas transformaciones y decisiones vienen guiadas por el EDA, por ejemplo:\n",
    "\n",
    "  - Si hay variables categóricas (strings) → convertirlas a numéricas mediante codificación.\n",
    "\n",
    "  - Si existen sesgos o distribuciones muy diferentes → considerar transformaciones (por ejemplo, logarítmicas).\n",
    "\n",
    "  - Si hay valores faltantes (missing values) → imputarlos o eliminarlos.\n",
    "\n",
    "  - Si hay outliers → tratarlos o transformarlos.\n",
    "\n",
    "  - Si hay correlaciones fuertes entre variables → evaluar la eliminación de alguna.\n",
    "\n",
    "### Dónde aplicar cada transformación\n",
    "\n",
    "Las transformaciones pueden realizarse en distintos momentos del flujo según su naturaleza:\n",
    "\n",
    "**En todo el dataset (antes de dividir)**\n",
    "\n",
    "Cuando son errores globales o de calidad de datos que afectan por igual a todas las partes del dataset.\n",
    "\n",
    "Ejemplos: eliminar duplicados, corregir tipos de datos, limpiar categorías inconsistentes.\n",
    "\n",
    "**Solo en el conjunto de entrenamiento**\n",
    "\n",
    "Cuando son procesos que aprenden información de los datos (como medias, modas o valores de imputación).\n",
    "\n",
    "Si se aplicaran antes del split, podrían corromper el aprendizaje del modelo (data leakage).\n",
    "\n",
    "Ejemplos: imputación, detección y eliminación de outliers, selección de variables basada en el target, balanceo de clases.\n",
    "\n",
    "**Dentro del Feature Pipeline**\n",
    "\n",
    "Cuando son transformaciones que deben repetirse exactamente igual al aplicar el modelo sobre datos nuevos.\n",
    "\n",
    "Ejemplos: escalado, codificación, imputación, transformaciones numéricas, creación de nuevas características.\n",
    "\n",
    "**NOTA**: El pipeline se entrena solo con los datos de entrenamiento y luego se usa para transformar tanto los datos de validación como los nuevos."
   ]
  },
  {
   "cell_type": "markdown",
   "metadata": {
    "id": "_9MPulPZQ33Z"
   },
   "source": [
    "# Entrenamiento del modelo"
   ]
  },
  {
   "cell_type": "markdown",
   "metadata": {
    "id": "YjEINVGuRgR5"
   },
   "source": [
    "## Selección de modelos y evaluación\n",
    "\n",
    "En esta etapa el objetivo es entrenar varios modelos diferentes:\n",
    "- Lineales\n",
    "- Kernel\n",
    "- Distancias\n",
    "- Arbol\n",
    "- Boosting\n",
    "\n",
    "Para ver cuál se puede adaptar mejor a nuestros datos.\n",
    "\n",
    "Se comparan en base a las métricas de evaluación.\n",
    "\n",
    "En este caso, al ser clasificación desbalanceada priorizamos:\n",
    "- Recall\n",
    "- F1-score\n",
    "- ROC AUC"
   ]
  },
  {
   "cell_type": "code",
   "execution_count": 29,
   "metadata": {
    "id": "pkHH2cyMcFIr"
   },
   "outputs": [],
   "source": [
    "# importar librerías\n",
    "import pandas as pd\n",
    "from sklearn.linear_model import LogisticRegression\n",
    "from sklearn.tree import DecisionTreeClassifier\n",
    "from sklearn.ensemble import RandomForestClassifier\n",
    "from xgboost import XGBClassifier\n",
    "from sklearn.metrics import classification_report, roc_auc_score\n",
    "from sklearn.model_selection import train_test_split\n"
   ]
  },
  {
   "cell_type": "code",
   "execution_count": 30,
   "metadata": {
    "id": "7l_qQfIycHw4"
   },
   "outputs": [],
   "source": [
    "# Cargamos datos train-test de features, X e Y\n",
    "\n",
    "X_train = pd.read_csv(\"../data/processed/X_train.csv\")\n",
    "y_train = pd.read_csv(\"../data/processed/y_train.csv\").squeeze()  # Para convertir a Series\n",
    "\n",
    "X_test = pd.read_csv(\"../data/processed/X_test.csv\")\n",
    "y_test = pd.read_csv(\"../data/processed/y_test.csv\").squeeze()"
   ]
  },
  {
   "cell_type": "code",
   "execution_count": 31,
   "metadata": {
    "colab": {
     "base_uri": "https://localhost:8080/"
    },
    "executionInfo": {
     "elapsed": 51,
     "status": "ok",
     "timestamp": 1760982454386,
     "user": {
      "displayName": "Christian Donaire",
      "userId": "17475987603301019397"
     },
     "user_tz": -120
    },
    "id": "9jlQN4ORuZV2",
    "outputId": "13a9ade8-b737-4c33-991c-b7c2ac11680a"
   },
   "outputs": [
    {
     "data": {
      "text/plain": [
       "array([0, 1, 0, ..., 0, 0, 0], shape=(1409,))"
      ]
     },
     "execution_count": 31,
     "metadata": {},
     "output_type": "execute_result"
    }
   ],
   "source": [
    "lr_model = LogisticRegression()\n",
    "\n",
    "lr_model.fit(X_train, y_train)\n",
    "y_pred = lr_model.predict(X_test)\n",
    "y_pred"
   ]
  },
  {
   "cell_type": "code",
   "execution_count": 32,
   "metadata": {
    "colab": {
     "base_uri": "https://localhost:8080/"
    },
    "executionInfo": {
     "elapsed": 333,
     "status": "ok",
     "timestamp": 1760982458722,
     "user": {
      "displayName": "Christian Donaire",
      "userId": "17475987603301019397"
     },
     "user_tz": -120
    },
    "id": "xria_WHFujb7",
    "outputId": "b543d0ac-c92f-4276-e93b-a3336b746e63"
   },
   "outputs": [
    {
     "data": {
      "text/plain": [
       "array([0, 0, 0, ..., 0, 0, 0], shape=(1409,))"
      ]
     },
     "execution_count": 32,
     "metadata": {},
     "output_type": "execute_result"
    }
   ],
   "source": [
    "dt_model = DecisionTreeClassifier()\n",
    "dt_model.fit(X_train, y_train)\n",
    "y_pred = dt_model.predict(X_test)\n",
    "y_pred"
   ]
  },
  {
   "cell_type": "code",
   "execution_count": 33,
   "metadata": {
    "colab": {
     "base_uri": "https://localhost:8080/"
    },
    "executionInfo": {
     "elapsed": 8257,
     "status": "ok",
     "timestamp": 1760974850631,
     "user": {
      "displayName": "Christian Donaire",
      "userId": "17475987603301019397"
     },
     "user_tz": -120
    },
    "id": "X_-eA-rdRknO",
    "outputId": "7f19d894-01f7-487b-d590-d1649674eec0"
   },
   "outputs": [
    {
     "name": "stdout",
     "output_type": "stream",
     "text": [
      "\n",
      "Logistic Regression\n",
      "              precision    recall  f1-score   support\n",
      "\n",
      "           0       0.89      0.72      0.80      1035\n",
      "           1       0.50      0.76      0.60       374\n",
      "\n",
      "    accuracy                           0.73      1409\n",
      "   macro avg       0.69      0.74      0.70      1409\n",
      "weighted avg       0.79      0.73      0.75      1409\n",
      "\n",
      "ROC AUC: 0.8155829393681056\n",
      "\n",
      "Decision Tree\n",
      "              precision    recall  f1-score   support\n",
      "\n",
      "           0       0.82      0.81      0.81      1035\n",
      "           1       0.49      0.51      0.50       374\n",
      "\n",
      "    accuracy                           0.73      1409\n",
      "   macro avg       0.65      0.66      0.65      1409\n",
      "weighted avg       0.73      0.73      0.73      1409\n",
      "\n",
      "ROC AUC: 0.6726626882637113\n",
      "\n",
      "Random Forest\n",
      "              precision    recall  f1-score   support\n",
      "\n",
      "           0       0.83      0.83      0.83      1035\n",
      "           1       0.53      0.53      0.53       374\n",
      "\n",
      "    accuracy                           0.75      1409\n",
      "   macro avg       0.68      0.68      0.68      1409\n",
      "weighted avg       0.75      0.75      0.75      1409\n",
      "\n",
      "ROC AUC: 0.7747862254256117\n",
      "\n",
      "Random Forest\n",
      "              precision    recall  f1-score   support\n",
      "\n",
      "           0       0.83      0.83      0.83      1035\n",
      "           1       0.53      0.53      0.53       374\n",
      "\n",
      "    accuracy                           0.75      1409\n",
      "   macro avg       0.68      0.68      0.68      1409\n",
      "weighted avg       0.75      0.75      0.75      1409\n",
      "\n",
      "ROC AUC: 0.7747862254256117\n"
     ]
    },
    {
     "name": "stderr",
     "output_type": "stream",
     "text": [
      "/Users/cdonairem/Documents/Workspace/proyecto_churn_prediction_oct_25/venv/lib/python3.12/site-packages/xgboost/training.py:199: UserWarning: [17:06:19] WARNING: /Users/runner/work/xgboost/xgboost/src/learner.cc:790: \n",
      "Parameters: { \"use_label_encoder\" } are not used.\n",
      "\n",
      "  bst.update(dtrain, iteration=i, fobj=obj)\n"
     ]
    },
    {
     "name": "stdout",
     "output_type": "stream",
     "text": [
      "\n",
      "XGBoost\n",
      "              precision    recall  f1-score   support\n",
      "\n",
      "           0       0.83      0.81      0.82      1035\n",
      "           1       0.51      0.55      0.53       374\n",
      "\n",
      "    accuracy                           0.74      1409\n",
      "   macro avg       0.67      0.68      0.67      1409\n",
      "weighted avg       0.75      0.74      0.74      1409\n",
      "\n",
      "ROC AUC: 0.7792580536826061\n"
     ]
    }
   ],
   "source": [
    "# Entrenamos modelos\n",
    "models = {\n",
    "    \"Logistic Regression\": LogisticRegression(max_iter=1000),\n",
    "    \"Decision Tree\": DecisionTreeClassifier(),\n",
    "    \"Random Forest\": RandomForestClassifier(),\n",
    "    \"XGBoost\": XGBClassifier(use_label_encoder=False, eval_metric='logloss')\n",
    "}\n",
    "\n",
    "for name, model in models.items():\n",
    "    model.fit(X_train, y_train)\n",
    "    y_pred = model.predict(X_test)\n",
    "    print(f\"\\n{name}\")\n",
    "    print(classification_report(y_test, y_pred))\n",
    "    print(\"ROC AUC:\", roc_auc_score(y_test, model.predict_proba(X_test)[:, 1]))"
   ]
  },
  {
   "cell_type": "code",
   "execution_count": 34,
   "metadata": {
    "colab": {
     "base_uri": "https://localhost:8080/"
    },
    "executionInfo": {
     "elapsed": 42979,
     "status": "ok",
     "timestamp": 1760975132270,
     "user": {
      "displayName": "Christian Donaire",
      "userId": "17475987603301019397"
     },
     "user_tz": -120
    },
    "id": "gkzYdx1FS15F",
    "outputId": "65f80d5a-d7b9-4585-b738-fc33075bfce4"
   },
   "outputs": [
    {
     "name": "stdout",
     "output_type": "stream",
     "text": [
      "KNN\n",
      "              precision    recall  f1-score   support\n",
      "\n",
      "           0       0.85      0.71      0.78      1035\n",
      "           1       0.45      0.66      0.53       374\n",
      "\n",
      "    accuracy                           0.70      1409\n",
      "   macro avg       0.65      0.68      0.65      1409\n",
      "weighted avg       0.74      0.70      0.71      1409\n",
      "\n",
      "ROC AUC: 0.7315701774781058\n",
      "\n",
      "SVM\n",
      "              precision    recall  f1-score   support\n",
      "\n",
      "           0       0.88      0.76      0.82      1035\n",
      "           1       0.52      0.70      0.59       374\n",
      "\n",
      "    accuracy                           0.75      1409\n",
      "   macro avg       0.70      0.73      0.71      1409\n",
      "weighted avg       0.78      0.75      0.76      1409\n",
      "\n",
      "ROC AUC: 0.7917099382572528\n",
      "\n",
      "SVM\n",
      "              precision    recall  f1-score   support\n",
      "\n",
      "           0       0.88      0.76      0.82      1035\n",
      "           1       0.52      0.70      0.59       374\n",
      "\n",
      "    accuracy                           0.75      1409\n",
      "   macro avg       0.70      0.73      0.71      1409\n",
      "weighted avg       0.78      0.75      0.76      1409\n",
      "\n",
      "ROC AUC: 0.7917099382572528\n"
     ]
    }
   ],
   "source": [
    "from sklearn.neighbors import KNeighborsClassifier\n",
    "from sklearn.svm import SVC\n",
    "from sklearn.metrics import classification_report, roc_auc_score\n",
    "\n",
    "# KNN\n",
    "knn = KNeighborsClassifier(n_neighbors=5)\n",
    "knn.fit(X_train, y_train)\n",
    "y_pred_knn = knn.predict(X_test)\n",
    "y_proba_knn = knn.predict_proba(X_test)[:, 1]\n",
    "\n",
    "print(\"KNN\")\n",
    "print(classification_report(y_test, y_pred_knn))\n",
    "print(\"ROC AUC:\", roc_auc_score(y_test, y_proba_knn))\n",
    "\n",
    "# SVM - Cuidado, tarda mucho en entrenar!\n",
    "svm = SVC(probability=True, kernel='rbf', C=1)\n",
    "svm.fit(X_train, y_train)\n",
    "y_pred_svm = svm.predict(X_test)\n",
    "y_proba_svm = svm.predict_proba(X_test)[:, 1]\n",
    "\n",
    "print(\"\\nSVM\")\n",
    "print(classification_report(y_test, y_pred_svm))\n",
    "print(\"ROC AUC:\", roc_auc_score(y_test, y_proba_svm))"
   ]
  },
  {
   "cell_type": "markdown",
   "metadata": {
    "id": "tY_JUo0RRlBP"
   },
   "source": [
    "## Optimización de hiperparámetros"
   ]
  },
  {
   "cell_type": "markdown",
   "metadata": {
    "id": "KBrBpxAnTty_"
   },
   "source": [
    "### Logistic Regresion"
   ]
  },
  {
   "cell_type": "code",
   "execution_count": 35,
   "metadata": {
    "colab": {
     "base_uri": "https://localhost:8080/"
    },
    "executionInfo": {
     "elapsed": 6861,
     "status": "ok",
     "timestamp": 1760975330362,
     "user": {
      "displayName": "Christian Donaire",
      "userId": "17475987603301019397"
     },
     "user_tz": -120
    },
    "id": "q9uliujbRnb8",
    "outputId": "e652796d-2a79-41f4-b899-206b335b934d"
   },
   "outputs": [
    {
     "name": "stdout",
     "output_type": "stream",
     "text": [
      "Best params (Logistic): {'C': 0.01, 'penalty': 'l2'}\n",
      "Best score (f1): 0.7709949906235098\n"
     ]
    },
    {
     "name": "stderr",
     "output_type": "stream",
     "text": [
      "/Users/cdonairem/Documents/Workspace/proyecto_churn_prediction_oct_25/venv/lib/python3.12/site-packages/sklearn/model_selection/_validation.py:516: FitFailedWarning: \n",
      "50 fits failed out of a total of 75.\n",
      "The score on these train-test partitions for these parameters will be set to nan.\n",
      "If these failures are not expected, you can try to debug them by setting error_score='raise'.\n",
      "\n",
      "Below are more details about the failures:\n",
      "--------------------------------------------------------------------------------\n",
      "25 fits failed with the following error:\n",
      "Traceback (most recent call last):\n",
      "  File \"/Users/cdonairem/Documents/Workspace/proyecto_churn_prediction_oct_25/venv/lib/python3.12/site-packages/sklearn/model_selection/_validation.py\", line 859, in _fit_and_score\n",
      "    estimator.fit(X_train, y_train, **fit_params)\n",
      "  File \"/Users/cdonairem/Documents/Workspace/proyecto_churn_prediction_oct_25/venv/lib/python3.12/site-packages/sklearn/base.py\", line 1365, in wrapper\n",
      "    return fit_method(estimator, *args, **kwargs)\n",
      "           ^^^^^^^^^^^^^^^^^^^^^^^^^^^^^^^^^^^^^^\n",
      "  File \"/Users/cdonairem/Documents/Workspace/proyecto_churn_prediction_oct_25/venv/lib/python3.12/site-packages/sklearn/linear_model/_logistic.py\", line 1218, in fit\n",
      "    solver = _check_solver(self.solver, self.penalty, self.dual)\n",
      "             ^^^^^^^^^^^^^^^^^^^^^^^^^^^^^^^^^^^^^^^^^^^^^^^^^^^\n",
      "  File \"/Users/cdonairem/Documents/Workspace/proyecto_churn_prediction_oct_25/venv/lib/python3.12/site-packages/sklearn/linear_model/_logistic.py\", line 64, in _check_solver\n",
      "    raise ValueError(\n",
      "ValueError: Solver lbfgs supports only 'l2' or None penalties, got l1 penalty.\n",
      "\n",
      "--------------------------------------------------------------------------------\n",
      "25 fits failed with the following error:\n",
      "Traceback (most recent call last):\n",
      "  File \"/Users/cdonairem/Documents/Workspace/proyecto_churn_prediction_oct_25/venv/lib/python3.12/site-packages/sklearn/model_selection/_validation.py\", line 859, in _fit_and_score\n",
      "    estimator.fit(X_train, y_train, **fit_params)\n",
      "  File \"/Users/cdonairem/Documents/Workspace/proyecto_churn_prediction_oct_25/venv/lib/python3.12/site-packages/sklearn/base.py\", line 1365, in wrapper\n",
      "    return fit_method(estimator, *args, **kwargs)\n",
      "           ^^^^^^^^^^^^^^^^^^^^^^^^^^^^^^^^^^^^^^\n",
      "  File \"/Users/cdonairem/Documents/Workspace/proyecto_churn_prediction_oct_25/venv/lib/python3.12/site-packages/sklearn/linear_model/_logistic.py\", line 1218, in fit\n",
      "    solver = _check_solver(self.solver, self.penalty, self.dual)\n",
      "             ^^^^^^^^^^^^^^^^^^^^^^^^^^^^^^^^^^^^^^^^^^^^^^^^^^^\n",
      "  File \"/Users/cdonairem/Documents/Workspace/proyecto_churn_prediction_oct_25/venv/lib/python3.12/site-packages/sklearn/linear_model/_logistic.py\", line 64, in _check_solver\n",
      "    raise ValueError(\n",
      "ValueError: Solver lbfgs supports only 'l2' or None penalties, got elasticnet penalty.\n",
      "\n",
      "  warnings.warn(some_fits_failed_message, FitFailedWarning)\n",
      "/Users/cdonairem/Documents/Workspace/proyecto_churn_prediction_oct_25/venv/lib/python3.12/site-packages/sklearn/model_selection/_search.py:1135: UserWarning: One or more of the test scores are non-finite: [       nan 0.77099499        nan        nan 0.77095102        nan\n",
      "        nan 0.77082339        nan        nan 0.77090694        nan\n",
      "        nan 0.77081765        nan]\n",
      "  warnings.warn(\n"
     ]
    }
   ],
   "source": [
    "from sklearn.linear_model import LogisticRegression\n",
    "from sklearn.model_selection import GridSearchCV, RandomizedSearchCV\n",
    "\n",
    "logreg = LogisticRegression()\n",
    "\n",
    "param_grid_logreg = {\n",
    "    'C': [0.01, 0.1, 1, 10, 100],   # fuerza de regularización\n",
    "    'penalty': ['l1', 'l2', 'elasticnet'],\n",
    "}\n",
    "\n",
    "grid_logreg = GridSearchCV(logreg, param_grid_logreg, scoring='f1', cv=5, n_jobs=-1)\n",
    "grid_logreg.fit(X_train, y_train)\n",
    "\n",
    "print(\"Best params (Logistic):\", grid_logreg.best_params_)\n",
    "print(\"Best score (f1):\", grid_logreg.best_score_)"
   ]
  },
  {
   "cell_type": "markdown",
   "metadata": {
    "id": "2Ptutf0lTwbM"
   },
   "source": [
    "### SVM"
   ]
  },
  {
   "cell_type": "code",
   "execution_count": 36,
   "metadata": {
    "id": "6tPZlrufTzcL"
   },
   "outputs": [
    {
     "name": "stdout",
     "output_type": "stream",
     "text": [
      "Best params (SVM): {'C': np.float64(8.424426408004217), 'gamma': 'auto', 'kernel': 'rbf'}\n",
      "Best score (f1): 0.8023308455530802\n"
     ]
    }
   ],
   "source": [
    "# Tarda mucho\n",
    "\n",
    "from sklearn.model_selection import RandomizedSearchCV # hace que tarde menos\n",
    "from sklearn.svm import SVC\n",
    "from scipy.stats import uniform\n",
    "\n",
    "svm = SVC(probability=True)\n",
    "\n",
    "param_grid_svm = {\n",
    "    'C': uniform(0.1, 10),  # valores entre 0.1 y 10\n",
    "    'kernel': ['linear', 'rbf'],\n",
    "    'gamma': ['scale', 'auto']\n",
    "}\n",
    "\n",
    "rand_svm = RandomizedSearchCV(\n",
    "    svm,\n",
    "    param_grid_svm,\n",
    "    scoring='f1',\n",
    "    cv=5,\n",
    "    n_jobs=-1,\n",
    "    random_state=42\n",
    ")\n",
    "\n",
    "rand_svm.fit(X_train, y_train)\n",
    "\n",
    "print(\"Best params (SVM):\", rand_svm.best_params_)\n",
    "print(\"Best score (f1):\", rand_svm.best_score_)"
   ]
  },
  {
   "cell_type": "markdown",
   "metadata": {
    "id": "_bc70eO-T0bt"
   },
   "source": [
    "### XGBoost"
   ]
  },
  {
   "cell_type": "code",
   "execution_count": 37,
   "metadata": {
    "colab": {
     "base_uri": "https://localhost:8080/"
    },
    "executionInfo": {
     "elapsed": 301212,
     "status": "ok",
     "timestamp": 1760975660410,
     "user": {
      "displayName": "Christian Donaire",
      "userId": "17475987603301019397"
     },
     "user_tz": -120
    },
    "id": "IalBLgHGT3E_",
    "outputId": "e0d50c01-c6d2-4e32-a19e-5781e6b4d3f2"
   },
   "outputs": [
    {
     "name": "stderr",
     "output_type": "stream",
     "text": [
      "/Users/cdonairem/Documents/Workspace/proyecto_churn_prediction_oct_25/venv/lib/python3.12/site-packages/xgboost/training.py:199: UserWarning: [17:08:19] WARNING: /Users/runner/work/xgboost/xgboost/src/learner.cc:790: \n",
      "Parameters: { \"use_label_encoder\" } are not used.\n",
      "\n",
      "  bst.update(dtrain, iteration=i, fobj=obj)\n",
      "/Users/cdonairem/Documents/Workspace/proyecto_churn_prediction_oct_25/venv/lib/python3.12/site-packages/xgboost/training.py:199: UserWarning: [17:08:19] WARNING: /Users/runner/work/xgboost/xgboost/src/learner.cc:790: \n",
      "Parameters: { \"use_label_encoder\" } are not used.\n",
      "\n",
      "  bst.update(dtrain, iteration=i, fobj=obj)\n",
      "/Users/cdonairem/Documents/Workspace/proyecto_churn_prediction_oct_25/venv/lib/python3.12/site-packages/xgboost/training.py:199: UserWarning: [17:08:19] WARNING: /Users/runner/work/xgboost/xgboost/src/learner.cc:790: \n",
      "Parameters: { \"use_label_encoder\" } are not used.\n",
      "\n",
      "  bst.update(dtrain, iteration=i, fobj=obj)\n",
      "/Users/cdonairem/Documents/Workspace/proyecto_churn_prediction_oct_25/venv/lib/python3.12/site-packages/xgboost/training.py:199: UserWarning: [17:08:19] WARNING: /Users/runner/work/xgboost/xgboost/src/learner.cc:790: \n",
      "Parameters: { \"use_label_encoder\" } are not used.\n",
      "\n",
      "  bst.update(dtrain, iteration=i, fobj=obj)\n",
      "/Users/cdonairem/Documents/Workspace/proyecto_churn_prediction_oct_25/venv/lib/python3.12/site-packages/xgboost/training.py:199: UserWarning: [17:08:19] WARNING: /Users/runner/work/xgboost/xgboost/src/learner.cc:790: \n",
      "Parameters: { \"use_label_encoder\" } are not used.\n",
      "\n",
      "  bst.update(dtrain, iteration=i, fobj=obj)\n",
      "/Users/cdonairem/Documents/Workspace/proyecto_churn_prediction_oct_25/venv/lib/python3.12/site-packages/xgboost/training.py:199: UserWarning: [17:08:19] WARNING: /Users/runner/work/xgboost/xgboost/src/learner.cc:790: \n",
      "Parameters: { \"use_label_encoder\" } are not used.\n",
      "\n",
      "  bst.update(dtrain, iteration=i, fobj=obj)\n",
      "/Users/cdonairem/Documents/Workspace/proyecto_churn_prediction_oct_25/venv/lib/python3.12/site-packages/xgboost/training.py:199: UserWarning: [17:08:19] WARNING: /Users/runner/work/xgboost/xgboost/src/learner.cc:790: \n",
      "Parameters: { \"use_label_encoder\" } are not used.\n",
      "\n",
      "  bst.update(dtrain, iteration=i, fobj=obj)\n",
      "/Users/cdonairem/Documents/Workspace/proyecto_churn_prediction_oct_25/venv/lib/python3.12/site-packages/xgboost/training.py:199: UserWarning: [17:08:19] WARNING: /Users/runner/work/xgboost/xgboost/src/learner.cc:790: \n",
      "Parameters: { \"use_label_encoder\" } are not used.\n",
      "\n",
      "  bst.update(dtrain, iteration=i, fobj=obj)\n",
      "/Users/cdonairem/Documents/Workspace/proyecto_churn_prediction_oct_25/venv/lib/python3.12/site-packages/xgboost/training.py:199: UserWarning: [17:08:20] WARNING: /Users/runner/work/xgboost/xgboost/src/learner.cc:790: \n",
      "Parameters: { \"use_label_encoder\" } are not used.\n",
      "\n",
      "  bst.update(dtrain, iteration=i, fobj=obj)\n",
      "/Users/cdonairem/Documents/Workspace/proyecto_churn_prediction_oct_25/venv/lib/python3.12/site-packages/xgboost/training.py:199: UserWarning: [17:08:20] WARNING: /Users/runner/work/xgboost/xgboost/src/learner.cc:790: \n",
      "Parameters: { \"use_label_encoder\" } are not used.\n",
      "\n",
      "  bst.update(dtrain, iteration=i, fobj=obj)\n",
      "/Users/cdonairem/Documents/Workspace/proyecto_churn_prediction_oct_25/venv/lib/python3.12/site-packages/xgboost/training.py:199: UserWarning: [17:08:20] WARNING: /Users/runner/work/xgboost/xgboost/src/learner.cc:790: \n",
      "Parameters: { \"use_label_encoder\" } are not used.\n",
      "\n",
      "  bst.update(dtrain, iteration=i, fobj=obj)\n",
      "/Users/cdonairem/Documents/Workspace/proyecto_churn_prediction_oct_25/venv/lib/python3.12/site-packages/xgboost/training.py:199: UserWarning: [17:08:20] WARNING: /Users/runner/work/xgboost/xgboost/src/learner.cc:790: \n",
      "Parameters: { \"use_label_encoder\" } are not used.\n",
      "\n",
      "  bst.update(dtrain, iteration=i, fobj=obj)\n",
      "/Users/cdonairem/Documents/Workspace/proyecto_churn_prediction_oct_25/venv/lib/python3.12/site-packages/xgboost/training.py:199: UserWarning: [17:08:20] WARNING: /Users/runner/work/xgboost/xgboost/src/learner.cc:790: \n",
      "Parameters: { \"use_label_encoder\" } are not used.\n",
      "\n",
      "  bst.update(dtrain, iteration=i, fobj=obj)\n",
      "/Users/cdonairem/Documents/Workspace/proyecto_churn_prediction_oct_25/venv/lib/python3.12/site-packages/xgboost/training.py:199: UserWarning: [17:08:20] WARNING: /Users/runner/work/xgboost/xgboost/src/learner.cc:790: \n",
      "Parameters: { \"use_label_encoder\" } are not used.\n",
      "\n",
      "  bst.update(dtrain, iteration=i, fobj=obj)\n",
      "/Users/cdonairem/Documents/Workspace/proyecto_churn_prediction_oct_25/venv/lib/python3.12/site-packages/xgboost/training.py:199: UserWarning: [17:08:20] WARNING: /Users/runner/work/xgboost/xgboost/src/learner.cc:790: \n",
      "Parameters: { \"use_label_encoder\" } are not used.\n",
      "\n",
      "  bst.update(dtrain, iteration=i, fobj=obj)\n",
      "/Users/cdonairem/Documents/Workspace/proyecto_churn_prediction_oct_25/venv/lib/python3.12/site-packages/xgboost/training.py:199: UserWarning: [17:08:20] WARNING: /Users/runner/work/xgboost/xgboost/src/learner.cc:790: \n",
      "Parameters: { \"use_label_encoder\" } are not used.\n",
      "\n",
      "  bst.update(dtrain, iteration=i, fobj=obj)\n",
      "/Users/cdonairem/Documents/Workspace/proyecto_churn_prediction_oct_25/venv/lib/python3.12/site-packages/xgboost/training.py:199: UserWarning: [17:08:20] WARNING: /Users/runner/work/xgboost/xgboost/src/learner.cc:790: \n",
      "Parameters: { \"use_label_encoder\" } are not used.\n",
      "\n",
      "  bst.update(dtrain, iteration=i, fobj=obj)\n",
      "/Users/cdonairem/Documents/Workspace/proyecto_churn_prediction_oct_25/venv/lib/python3.12/site-packages/xgboost/training.py:199: UserWarning: [17:08:20] WARNING: /Users/runner/work/xgboost/xgboost/src/learner.cc:790: \n",
      "Parameters: { \"use_label_encoder\" } are not used.\n",
      "\n",
      "  bst.update(dtrain, iteration=i, fobj=obj)\n",
      "/Users/cdonairem/Documents/Workspace/proyecto_churn_prediction_oct_25/venv/lib/python3.12/site-packages/xgboost/training.py:199: UserWarning: [17:08:20] WARNING: /Users/runner/work/xgboost/xgboost/src/learner.cc:790: \n",
      "Parameters: { \"use_label_encoder\" } are not used.\n",
      "\n",
      "  bst.update(dtrain, iteration=i, fobj=obj)\n",
      "/Users/cdonairem/Documents/Workspace/proyecto_churn_prediction_oct_25/venv/lib/python3.12/site-packages/xgboost/training.py:199: UserWarning: [17:08:20] WARNING: /Users/runner/work/xgboost/xgboost/src/learner.cc:790: \n",
      "Parameters: { \"use_label_encoder\" } are not used.\n",
      "\n",
      "  bst.update(dtrain, iteration=i, fobj=obj)\n",
      "/Users/cdonairem/Documents/Workspace/proyecto_churn_prediction_oct_25/venv/lib/python3.12/site-packages/xgboost/training.py:199: UserWarning: [17:08:20] WARNING: /Users/runner/work/xgboost/xgboost/src/learner.cc:790: \n",
      "Parameters: { \"use_label_encoder\" } are not used.\n",
      "\n",
      "  bst.update(dtrain, iteration=i, fobj=obj)\n",
      "/Users/cdonairem/Documents/Workspace/proyecto_churn_prediction_oct_25/venv/lib/python3.12/site-packages/xgboost/training.py:199: UserWarning: [17:08:20] WARNING: /Users/runner/work/xgboost/xgboost/src/learner.cc:790: \n",
      "Parameters: { \"use_label_encoder\" } are not used.\n",
      "\n",
      "  bst.update(dtrain, iteration=i, fobj=obj)\n",
      "/Users/cdonairem/Documents/Workspace/proyecto_churn_prediction_oct_25/venv/lib/python3.12/site-packages/xgboost/training.py:199: UserWarning: [17:08:20] WARNING: /Users/runner/work/xgboost/xgboost/src/learner.cc:790: \n",
      "Parameters: { \"use_label_encoder\" } are not used.\n",
      "\n",
      "  bst.update(dtrain, iteration=i, fobj=obj)\n",
      "/Users/cdonairem/Documents/Workspace/proyecto_churn_prediction_oct_25/venv/lib/python3.12/site-packages/xgboost/training.py:199: UserWarning: [17:08:20] WARNING: /Users/runner/work/xgboost/xgboost/src/learner.cc:790: \n",
      "Parameters: { \"use_label_encoder\" } are not used.\n",
      "\n",
      "  bst.update(dtrain, iteration=i, fobj=obj)\n",
      "/Users/cdonairem/Documents/Workspace/proyecto_churn_prediction_oct_25/venv/lib/python3.12/site-packages/xgboost/training.py:199: UserWarning: [17:08:20] WARNING: /Users/runner/work/xgboost/xgboost/src/learner.cc:790: \n",
      "Parameters: { \"use_label_encoder\" } are not used.\n",
      "\n",
      "  bst.update(dtrain, iteration=i, fobj=obj)\n",
      "/Users/cdonairem/Documents/Workspace/proyecto_churn_prediction_oct_25/venv/lib/python3.12/site-packages/xgboost/training.py:199: UserWarning: [17:08:20] WARNING: /Users/runner/work/xgboost/xgboost/src/learner.cc:790: \n",
      "Parameters: { \"use_label_encoder\" } are not used.\n",
      "\n",
      "  bst.update(dtrain, iteration=i, fobj=obj)\n",
      "/Users/cdonairem/Documents/Workspace/proyecto_churn_prediction_oct_25/venv/lib/python3.12/site-packages/xgboost/training.py:199: UserWarning: [17:08:20] WARNING: /Users/runner/work/xgboost/xgboost/src/learner.cc:790: \n",
      "Parameters: { \"use_label_encoder\" } are not used.\n",
      "\n",
      "  bst.update(dtrain, iteration=i, fobj=obj)\n",
      "/Users/cdonairem/Documents/Workspace/proyecto_churn_prediction_oct_25/venv/lib/python3.12/site-packages/xgboost/training.py:199: UserWarning: [17:08:20] WARNING: /Users/runner/work/xgboost/xgboost/src/learner.cc:790: \n",
      "Parameters: { \"use_label_encoder\" } are not used.\n",
      "\n",
      "  bst.update(dtrain, iteration=i, fobj=obj)\n",
      "/Users/cdonairem/Documents/Workspace/proyecto_churn_prediction_oct_25/venv/lib/python3.12/site-packages/xgboost/training.py:199: UserWarning: [17:08:20] WARNING: /Users/runner/work/xgboost/xgboost/src/learner.cc:790: \n",
      "Parameters: { \"use_label_encoder\" } are not used.\n",
      "\n",
      "  bst.update(dtrain, iteration=i, fobj=obj)\n",
      "/Users/cdonairem/Documents/Workspace/proyecto_churn_prediction_oct_25/venv/lib/python3.12/site-packages/xgboost/training.py:199: UserWarning: [17:08:20] WARNING: /Users/runner/work/xgboost/xgboost/src/learner.cc:790: \n",
      "Parameters: { \"use_label_encoder\" } are not used.\n",
      "\n",
      "  bst.update(dtrain, iteration=i, fobj=obj)\n",
      "/Users/cdonairem/Documents/Workspace/proyecto_churn_prediction_oct_25/venv/lib/python3.12/site-packages/xgboost/training.py:199: UserWarning: [17:08:21] WARNING: /Users/runner/work/xgboost/xgboost/src/learner.cc:790: \n",
      "Parameters: { \"use_label_encoder\" } are not used.\n",
      "\n",
      "  bst.update(dtrain, iteration=i, fobj=obj)\n",
      "/Users/cdonairem/Documents/Workspace/proyecto_churn_prediction_oct_25/venv/lib/python3.12/site-packages/xgboost/training.py:199: UserWarning: [17:08:21] WARNING: /Users/runner/work/xgboost/xgboost/src/learner.cc:790: \n",
      "Parameters: { \"use_label_encoder\" } are not used.\n",
      "\n",
      "  bst.update(dtrain, iteration=i, fobj=obj)\n",
      "/Users/cdonairem/Documents/Workspace/proyecto_churn_prediction_oct_25/venv/lib/python3.12/site-packages/xgboost/training.py:199: UserWarning: [17:08:21] WARNING: /Users/runner/work/xgboost/xgboost/src/learner.cc:790: \n",
      "Parameters: { \"use_label_encoder\" } are not used.\n",
      "\n",
      "  bst.update(dtrain, iteration=i, fobj=obj)\n",
      "/Users/cdonairem/Documents/Workspace/proyecto_churn_prediction_oct_25/venv/lib/python3.12/site-packages/xgboost/training.py:199: UserWarning: [17:08:21] WARNING: /Users/runner/work/xgboost/xgboost/src/learner.cc:790: \n",
      "Parameters: { \"use_label_encoder\" } are not used.\n",
      "\n",
      "  bst.update(dtrain, iteration=i, fobj=obj)\n",
      "/Users/cdonairem/Documents/Workspace/proyecto_churn_prediction_oct_25/venv/lib/python3.12/site-packages/xgboost/training.py:199: UserWarning: [17:08:21] WARNING: /Users/runner/work/xgboost/xgboost/src/learner.cc:790: \n",
      "Parameters: { \"use_label_encoder\" } are not used.\n",
      "\n",
      "  bst.update(dtrain, iteration=i, fobj=obj)\n",
      "/Users/cdonairem/Documents/Workspace/proyecto_churn_prediction_oct_25/venv/lib/python3.12/site-packages/xgboost/training.py:199: UserWarning: [17:08:21] WARNING: /Users/runner/work/xgboost/xgboost/src/learner.cc:790: \n",
      "Parameters: { \"use_label_encoder\" } are not used.\n",
      "\n",
      "  bst.update(dtrain, iteration=i, fobj=obj)\n",
      "/Users/cdonairem/Documents/Workspace/proyecto_churn_prediction_oct_25/venv/lib/python3.12/site-packages/xgboost/training.py:199: UserWarning: [17:08:21] WARNING: /Users/runner/work/xgboost/xgboost/src/learner.cc:790: \n",
      "Parameters: { \"use_label_encoder\" } are not used.\n",
      "\n",
      "  bst.update(dtrain, iteration=i, fobj=obj)\n",
      "/Users/cdonairem/Documents/Workspace/proyecto_churn_prediction_oct_25/venv/lib/python3.12/site-packages/xgboost/training.py:199: UserWarning: [17:08:21] WARNING: /Users/runner/work/xgboost/xgboost/src/learner.cc:790: \n",
      "Parameters: { \"use_label_encoder\" } are not used.\n",
      "\n",
      "  bst.update(dtrain, iteration=i, fobj=obj)\n",
      "/Users/cdonairem/Documents/Workspace/proyecto_churn_prediction_oct_25/venv/lib/python3.12/site-packages/xgboost/training.py:199: UserWarning: [17:08:21] WARNING: /Users/runner/work/xgboost/xgboost/src/learner.cc:790: \n",
      "Parameters: { \"use_label_encoder\" } are not used.\n",
      "\n",
      "  bst.update(dtrain, iteration=i, fobj=obj)\n",
      "/Users/cdonairem/Documents/Workspace/proyecto_churn_prediction_oct_25/venv/lib/python3.12/site-packages/xgboost/training.py:199: UserWarning: [17:08:21] WARNING: /Users/runner/work/xgboost/xgboost/src/learner.cc:790: \n",
      "Parameters: { \"use_label_encoder\" } are not used.\n",
      "\n",
      "  bst.update(dtrain, iteration=i, fobj=obj)\n",
      "/Users/cdonairem/Documents/Workspace/proyecto_churn_prediction_oct_25/venv/lib/python3.12/site-packages/xgboost/training.py:199: UserWarning: [17:08:21] WARNING: /Users/runner/work/xgboost/xgboost/src/learner.cc:790: \n",
      "Parameters: { \"use_label_encoder\" } are not used.\n",
      "\n",
      "  bst.update(dtrain, iteration=i, fobj=obj)\n",
      "/Users/cdonairem/Documents/Workspace/proyecto_churn_prediction_oct_25/venv/lib/python3.12/site-packages/xgboost/training.py:199: UserWarning: [17:08:21] WARNING: /Users/runner/work/xgboost/xgboost/src/learner.cc:790: \n",
      "Parameters: { \"use_label_encoder\" } are not used.\n",
      "\n",
      "  bst.update(dtrain, iteration=i, fobj=obj)\n",
      "/Users/cdonairem/Documents/Workspace/proyecto_churn_prediction_oct_25/venv/lib/python3.12/site-packages/xgboost/training.py:199: UserWarning: [17:08:21] WARNING: /Users/runner/work/xgboost/xgboost/src/learner.cc:790: \n",
      "Parameters: { \"use_label_encoder\" } are not used.\n",
      "\n",
      "  bst.update(dtrain, iteration=i, fobj=obj)\n",
      "/Users/cdonairem/Documents/Workspace/proyecto_churn_prediction_oct_25/venv/lib/python3.12/site-packages/xgboost/training.py:199: UserWarning: [17:08:21] WARNING: /Users/runner/work/xgboost/xgboost/src/learner.cc:790: \n",
      "Parameters: { \"use_label_encoder\" } are not used.\n",
      "\n",
      "  bst.update(dtrain, iteration=i, fobj=obj)\n",
      "/Users/cdonairem/Documents/Workspace/proyecto_churn_prediction_oct_25/venv/lib/python3.12/site-packages/xgboost/training.py:199: UserWarning: [17:08:21] WARNING: /Users/runner/work/xgboost/xgboost/src/learner.cc:790: \n",
      "Parameters: { \"use_label_encoder\" } are not used.\n",
      "\n",
      "  bst.update(dtrain, iteration=i, fobj=obj)\n",
      "/Users/cdonairem/Documents/Workspace/proyecto_churn_prediction_oct_25/venv/lib/python3.12/site-packages/xgboost/training.py:199: UserWarning: [17:08:21] WARNING: /Users/runner/work/xgboost/xgboost/src/learner.cc:790: \n",
      "Parameters: { \"use_label_encoder\" } are not used.\n",
      "\n",
      "  bst.update(dtrain, iteration=i, fobj=obj)\n",
      "/Users/cdonairem/Documents/Workspace/proyecto_churn_prediction_oct_25/venv/lib/python3.12/site-packages/xgboost/training.py:199: UserWarning: [17:08:21] WARNING: /Users/runner/work/xgboost/xgboost/src/learner.cc:790: \n",
      "Parameters: { \"use_label_encoder\" } are not used.\n",
      "\n",
      "  bst.update(dtrain, iteration=i, fobj=obj)\n",
      "/Users/cdonairem/Documents/Workspace/proyecto_churn_prediction_oct_25/venv/lib/python3.12/site-packages/xgboost/training.py:199: UserWarning: [17:08:21] WARNING: /Users/runner/work/xgboost/xgboost/src/learner.cc:790: \n",
      "Parameters: { \"use_label_encoder\" } are not used.\n",
      "\n",
      "  bst.update(dtrain, iteration=i, fobj=obj)\n",
      "/Users/cdonairem/Documents/Workspace/proyecto_churn_prediction_oct_25/venv/lib/python3.12/site-packages/xgboost/training.py:199: UserWarning: [17:08:21] WARNING: /Users/runner/work/xgboost/xgboost/src/learner.cc:790: \n",
      "Parameters: { \"use_label_encoder\" } are not used.\n",
      "\n",
      "  bst.update(dtrain, iteration=i, fobj=obj)\n",
      "/Users/cdonairem/Documents/Workspace/proyecto_churn_prediction_oct_25/venv/lib/python3.12/site-packages/xgboost/training.py:199: UserWarning: [17:08:21] WARNING: /Users/runner/work/xgboost/xgboost/src/learner.cc:790: \n",
      "Parameters: { \"use_label_encoder\" } are not used.\n",
      "\n",
      "  bst.update(dtrain, iteration=i, fobj=obj)\n",
      "/Users/cdonairem/Documents/Workspace/proyecto_churn_prediction_oct_25/venv/lib/python3.12/site-packages/xgboost/training.py:199: UserWarning: [17:08:21] WARNING: /Users/runner/work/xgboost/xgboost/src/learner.cc:790: \n",
      "Parameters: { \"use_label_encoder\" } are not used.\n",
      "\n",
      "  bst.update(dtrain, iteration=i, fobj=obj)\n",
      "/Users/cdonairem/Documents/Workspace/proyecto_churn_prediction_oct_25/venv/lib/python3.12/site-packages/xgboost/training.py:199: UserWarning: [17:08:21] WARNING: /Users/runner/work/xgboost/xgboost/src/learner.cc:790: \n",
      "Parameters: { \"use_label_encoder\" } are not used.\n",
      "\n",
      "  bst.update(dtrain, iteration=i, fobj=obj)\n",
      "/Users/cdonairem/Documents/Workspace/proyecto_churn_prediction_oct_25/venv/lib/python3.12/site-packages/xgboost/training.py:199: UserWarning: [17:08:21] WARNING: /Users/runner/work/xgboost/xgboost/src/learner.cc:790: \n",
      "Parameters: { \"use_label_encoder\" } are not used.\n",
      "\n",
      "  bst.update(dtrain, iteration=i, fobj=obj)\n",
      "/Users/cdonairem/Documents/Workspace/proyecto_churn_prediction_oct_25/venv/lib/python3.12/site-packages/xgboost/training.py:199: UserWarning: [17:08:21] WARNING: /Users/runner/work/xgboost/xgboost/src/learner.cc:790: \n",
      "Parameters: { \"use_label_encoder\" } are not used.\n",
      "\n",
      "  bst.update(dtrain, iteration=i, fobj=obj)\n",
      "/Users/cdonairem/Documents/Workspace/proyecto_churn_prediction_oct_25/venv/lib/python3.12/site-packages/xgboost/training.py:199: UserWarning: [17:08:21] WARNING: /Users/runner/work/xgboost/xgboost/src/learner.cc:790: \n",
      "Parameters: { \"use_label_encoder\" } are not used.\n",
      "\n",
      "  bst.update(dtrain, iteration=i, fobj=obj)\n",
      "/Users/cdonairem/Documents/Workspace/proyecto_churn_prediction_oct_25/venv/lib/python3.12/site-packages/xgboost/training.py:199: UserWarning: [17:08:21] WARNING: /Users/runner/work/xgboost/xgboost/src/learner.cc:790: \n",
      "Parameters: { \"use_label_encoder\" } are not used.\n",
      "\n",
      "  bst.update(dtrain, iteration=i, fobj=obj)\n",
      "/Users/cdonairem/Documents/Workspace/proyecto_churn_prediction_oct_25/venv/lib/python3.12/site-packages/xgboost/training.py:199: UserWarning: [17:08:21] WARNING: /Users/runner/work/xgboost/xgboost/src/learner.cc:790: \n",
      "Parameters: { \"use_label_encoder\" } are not used.\n",
      "\n",
      "  bst.update(dtrain, iteration=i, fobj=obj)\n",
      "/Users/cdonairem/Documents/Workspace/proyecto_churn_prediction_oct_25/venv/lib/python3.12/site-packages/xgboost/training.py:199: UserWarning: [17:08:21] WARNING: /Users/runner/work/xgboost/xgboost/src/learner.cc:790: \n",
      "Parameters: { \"use_label_encoder\" } are not used.\n",
      "\n",
      "  bst.update(dtrain, iteration=i, fobj=obj)\n",
      "/Users/cdonairem/Documents/Workspace/proyecto_churn_prediction_oct_25/venv/lib/python3.12/site-packages/xgboost/training.py:199: UserWarning: [17:08:21] WARNING: /Users/runner/work/xgboost/xgboost/src/learner.cc:790: \n",
      "Parameters: { \"use_label_encoder\" } are not used.\n",
      "\n",
      "  bst.update(dtrain, iteration=i, fobj=obj)\n",
      "/Users/cdonairem/Documents/Workspace/proyecto_churn_prediction_oct_25/venv/lib/python3.12/site-packages/xgboost/training.py:199: UserWarning: [17:08:21] WARNING: /Users/runner/work/xgboost/xgboost/src/learner.cc:790: \n",
      "Parameters: { \"use_label_encoder\" } are not used.\n",
      "\n",
      "  bst.update(dtrain, iteration=i, fobj=obj)\n",
      "/Users/cdonairem/Documents/Workspace/proyecto_churn_prediction_oct_25/venv/lib/python3.12/site-packages/xgboost/training.py:199: UserWarning: [17:08:21] WARNING: /Users/runner/work/xgboost/xgboost/src/learner.cc:790: \n",
      "Parameters: { \"use_label_encoder\" } are not used.\n",
      "\n",
      "  bst.update(dtrain, iteration=i, fobj=obj)\n",
      "/Users/cdonairem/Documents/Workspace/proyecto_churn_prediction_oct_25/venv/lib/python3.12/site-packages/xgboost/training.py:199: UserWarning: [17:08:21] WARNING: /Users/runner/work/xgboost/xgboost/src/learner.cc:790: \n",
      "Parameters: { \"use_label_encoder\" } are not used.\n",
      "\n",
      "  bst.update(dtrain, iteration=i, fobj=obj)\n",
      "/Users/cdonairem/Documents/Workspace/proyecto_churn_prediction_oct_25/venv/lib/python3.12/site-packages/xgboost/training.py:199: UserWarning: [17:08:21] WARNING: /Users/runner/work/xgboost/xgboost/src/learner.cc:790: \n",
      "Parameters: { \"use_label_encoder\" } are not used.\n",
      "\n",
      "  bst.update(dtrain, iteration=i, fobj=obj)\n",
      "/Users/cdonairem/Documents/Workspace/proyecto_churn_prediction_oct_25/venv/lib/python3.12/site-packages/xgboost/training.py:199: UserWarning: [17:08:21] WARNING: /Users/runner/work/xgboost/xgboost/src/learner.cc:790: \n",
      "Parameters: { \"use_label_encoder\" } are not used.\n",
      "\n",
      "  bst.update(dtrain, iteration=i, fobj=obj)\n",
      "/Users/cdonairem/Documents/Workspace/proyecto_churn_prediction_oct_25/venv/lib/python3.12/site-packages/xgboost/training.py:199: UserWarning: [17:08:21] WARNING: /Users/runner/work/xgboost/xgboost/src/learner.cc:790: \n",
      "Parameters: { \"use_label_encoder\" } are not used.\n",
      "\n",
      "  bst.update(dtrain, iteration=i, fobj=obj)\n",
      "/Users/cdonairem/Documents/Workspace/proyecto_churn_prediction_oct_25/venv/lib/python3.12/site-packages/xgboost/training.py:199: UserWarning: [17:08:21] WARNING: /Users/runner/work/xgboost/xgboost/src/learner.cc:790: \n",
      "Parameters: { \"use_label_encoder\" } are not used.\n",
      "\n",
      "  bst.update(dtrain, iteration=i, fobj=obj)\n",
      "/Users/cdonairem/Documents/Workspace/proyecto_churn_prediction_oct_25/venv/lib/python3.12/site-packages/xgboost/training.py:199: UserWarning: [17:08:21] WARNING: /Users/runner/work/xgboost/xgboost/src/learner.cc:790: \n",
      "Parameters: { \"use_label_encoder\" } are not used.\n",
      "\n",
      "  bst.update(dtrain, iteration=i, fobj=obj)\n",
      "/Users/cdonairem/Documents/Workspace/proyecto_churn_prediction_oct_25/venv/lib/python3.12/site-packages/xgboost/training.py:199: UserWarning: [17:08:21] WARNING: /Users/runner/work/xgboost/xgboost/src/learner.cc:790: \n",
      "Parameters: { \"use_label_encoder\" } are not used.\n",
      "\n",
      "  bst.update(dtrain, iteration=i, fobj=obj)\n",
      "/Users/cdonairem/Documents/Workspace/proyecto_churn_prediction_oct_25/venv/lib/python3.12/site-packages/xgboost/training.py:199: UserWarning: [17:08:22] WARNING: /Users/runner/work/xgboost/xgboost/src/learner.cc:790: \n",
      "Parameters: { \"use_label_encoder\" } are not used.\n",
      "\n",
      "  bst.update(dtrain, iteration=i, fobj=obj)\n",
      "/Users/cdonairem/Documents/Workspace/proyecto_churn_prediction_oct_25/venv/lib/python3.12/site-packages/xgboost/training.py:199: UserWarning: [17:08:22] WARNING: /Users/runner/work/xgboost/xgboost/src/learner.cc:790: \n",
      "Parameters: { \"use_label_encoder\" } are not used.\n",
      "\n",
      "  bst.update(dtrain, iteration=i, fobj=obj)\n",
      "/Users/cdonairem/Documents/Workspace/proyecto_churn_prediction_oct_25/venv/lib/python3.12/site-packages/xgboost/training.py:199: UserWarning: [17:08:22] WARNING: /Users/runner/work/xgboost/xgboost/src/learner.cc:790: \n",
      "Parameters: { \"use_label_encoder\" } are not used.\n",
      "\n",
      "  bst.update(dtrain, iteration=i, fobj=obj)\n",
      "/Users/cdonairem/Documents/Workspace/proyecto_churn_prediction_oct_25/venv/lib/python3.12/site-packages/xgboost/training.py:199: UserWarning: [17:08:22] WARNING: /Users/runner/work/xgboost/xgboost/src/learner.cc:790: \n",
      "Parameters: { \"use_label_encoder\" } are not used.\n",
      "\n",
      "  bst.update(dtrain, iteration=i, fobj=obj)\n",
      "/Users/cdonairem/Documents/Workspace/proyecto_churn_prediction_oct_25/venv/lib/python3.12/site-packages/xgboost/training.py:199: UserWarning: [17:08:22] WARNING: /Users/runner/work/xgboost/xgboost/src/learner.cc:790: \n",
      "Parameters: { \"use_label_encoder\" } are not used.\n",
      "\n",
      "  bst.update(dtrain, iteration=i, fobj=obj)\n",
      "/Users/cdonairem/Documents/Workspace/proyecto_churn_prediction_oct_25/venv/lib/python3.12/site-packages/xgboost/training.py:199: UserWarning: [17:08:22] WARNING: /Users/runner/work/xgboost/xgboost/src/learner.cc:790: \n",
      "Parameters: { \"use_label_encoder\" } are not used.\n",
      "\n",
      "  bst.update(dtrain, iteration=i, fobj=obj)\n",
      "/Users/cdonairem/Documents/Workspace/proyecto_churn_prediction_oct_25/venv/lib/python3.12/site-packages/xgboost/training.py:199: UserWarning: [17:08:22] WARNING: /Users/runner/work/xgboost/xgboost/src/learner.cc:790: \n",
      "Parameters: { \"use_label_encoder\" } are not used.\n",
      "\n",
      "  bst.update(dtrain, iteration=i, fobj=obj)\n",
      "/Users/cdonairem/Documents/Workspace/proyecto_churn_prediction_oct_25/venv/lib/python3.12/site-packages/xgboost/training.py:199: UserWarning: [17:08:22] WARNING: /Users/runner/work/xgboost/xgboost/src/learner.cc:790: \n",
      "Parameters: { \"use_label_encoder\" } are not used.\n",
      "\n",
      "  bst.update(dtrain, iteration=i, fobj=obj)\n",
      "/Users/cdonairem/Documents/Workspace/proyecto_churn_prediction_oct_25/venv/lib/python3.12/site-packages/xgboost/training.py:199: UserWarning: [17:08:22] WARNING: /Users/runner/work/xgboost/xgboost/src/learner.cc:790: \n",
      "Parameters: { \"use_label_encoder\" } are not used.\n",
      "\n",
      "  bst.update(dtrain, iteration=i, fobj=obj)\n",
      "/Users/cdonairem/Documents/Workspace/proyecto_churn_prediction_oct_25/venv/lib/python3.12/site-packages/xgboost/training.py:199: UserWarning: [17:08:22] WARNING: /Users/runner/work/xgboost/xgboost/src/learner.cc:790: \n",
      "Parameters: { \"use_label_encoder\" } are not used.\n",
      "\n",
      "  bst.update(dtrain, iteration=i, fobj=obj)\n",
      "/Users/cdonairem/Documents/Workspace/proyecto_churn_prediction_oct_25/venv/lib/python3.12/site-packages/xgboost/training.py:199: UserWarning: [17:08:22] WARNING: /Users/runner/work/xgboost/xgboost/src/learner.cc:790: \n",
      "Parameters: { \"use_label_encoder\" } are not used.\n",
      "\n",
      "  bst.update(dtrain, iteration=i, fobj=obj)\n",
      "/Users/cdonairem/Documents/Workspace/proyecto_churn_prediction_oct_25/venv/lib/python3.12/site-packages/xgboost/training.py:199: UserWarning: [17:08:22] WARNING: /Users/runner/work/xgboost/xgboost/src/learner.cc:790: \n",
      "Parameters: { \"use_label_encoder\" } are not used.\n",
      "\n",
      "  bst.update(dtrain, iteration=i, fobj=obj)\n",
      "/Users/cdonairem/Documents/Workspace/proyecto_churn_prediction_oct_25/venv/lib/python3.12/site-packages/xgboost/training.py:199: UserWarning: [17:08:22] WARNING: /Users/runner/work/xgboost/xgboost/src/learner.cc:790: \n",
      "Parameters: { \"use_label_encoder\" } are not used.\n",
      "\n",
      "  bst.update(dtrain, iteration=i, fobj=obj)\n",
      "/Users/cdonairem/Documents/Workspace/proyecto_churn_prediction_oct_25/venv/lib/python3.12/site-packages/xgboost/training.py:199: UserWarning: [17:08:22] WARNING: /Users/runner/work/xgboost/xgboost/src/learner.cc:790: \n",
      "Parameters: { \"use_label_encoder\" } are not used.\n",
      "\n",
      "  bst.update(dtrain, iteration=i, fobj=obj)\n",
      "/Users/cdonairem/Documents/Workspace/proyecto_churn_prediction_oct_25/venv/lib/python3.12/site-packages/xgboost/training.py:199: UserWarning: [17:08:22] WARNING: /Users/runner/work/xgboost/xgboost/src/learner.cc:790: \n",
      "Parameters: { \"use_label_encoder\" } are not used.\n",
      "\n",
      "  bst.update(dtrain, iteration=i, fobj=obj)\n",
      "/Users/cdonairem/Documents/Workspace/proyecto_churn_prediction_oct_25/venv/lib/python3.12/site-packages/xgboost/training.py:199: UserWarning: [17:08:22] WARNING: /Users/runner/work/xgboost/xgboost/src/learner.cc:790: \n",
      "Parameters: { \"use_label_encoder\" } are not used.\n",
      "\n",
      "  bst.update(dtrain, iteration=i, fobj=obj)\n",
      "/Users/cdonairem/Documents/Workspace/proyecto_churn_prediction_oct_25/venv/lib/python3.12/site-packages/xgboost/training.py:199: UserWarning: [17:08:22] WARNING: /Users/runner/work/xgboost/xgboost/src/learner.cc:790: \n",
      "Parameters: { \"use_label_encoder\" } are not used.\n",
      "\n",
      "  bst.update(dtrain, iteration=i, fobj=obj)\n",
      "/Users/cdonairem/Documents/Workspace/proyecto_churn_prediction_oct_25/venv/lib/python3.12/site-packages/xgboost/training.py:199: UserWarning: [17:08:22] WARNING: /Users/runner/work/xgboost/xgboost/src/learner.cc:790: \n",
      "Parameters: { \"use_label_encoder\" } are not used.\n",
      "\n",
      "  bst.update(dtrain, iteration=i, fobj=obj)\n",
      "/Users/cdonairem/Documents/Workspace/proyecto_churn_prediction_oct_25/venv/lib/python3.12/site-packages/xgboost/training.py:199: UserWarning: [17:08:22] WARNING: /Users/runner/work/xgboost/xgboost/src/learner.cc:790: \n",
      "Parameters: { \"use_label_encoder\" } are not used.\n",
      "\n",
      "  bst.update(dtrain, iteration=i, fobj=obj)\n",
      "/Users/cdonairem/Documents/Workspace/proyecto_churn_prediction_oct_25/venv/lib/python3.12/site-packages/xgboost/training.py:199: UserWarning: [17:08:22] WARNING: /Users/runner/work/xgboost/xgboost/src/learner.cc:790: \n",
      "Parameters: { \"use_label_encoder\" } are not used.\n",
      "\n",
      "  bst.update(dtrain, iteration=i, fobj=obj)\n",
      "/Users/cdonairem/Documents/Workspace/proyecto_churn_prediction_oct_25/venv/lib/python3.12/site-packages/xgboost/training.py:199: UserWarning: [17:08:22] WARNING: /Users/runner/work/xgboost/xgboost/src/learner.cc:790: \n",
      "Parameters: { \"use_label_encoder\" } are not used.\n",
      "\n",
      "  bst.update(dtrain, iteration=i, fobj=obj)\n",
      "/Users/cdonairem/Documents/Workspace/proyecto_churn_prediction_oct_25/venv/lib/python3.12/site-packages/xgboost/training.py:199: UserWarning: [17:08:22] WARNING: /Users/runner/work/xgboost/xgboost/src/learner.cc:790: \n",
      "Parameters: { \"use_label_encoder\" } are not used.\n",
      "\n",
      "  bst.update(dtrain, iteration=i, fobj=obj)\n",
      "/Users/cdonairem/Documents/Workspace/proyecto_churn_prediction_oct_25/venv/lib/python3.12/site-packages/xgboost/training.py:199: UserWarning: [17:08:22] WARNING: /Users/runner/work/xgboost/xgboost/src/learner.cc:790: \n",
      "Parameters: { \"use_label_encoder\" } are not used.\n",
      "\n",
      "  bst.update(dtrain, iteration=i, fobj=obj)\n",
      "/Users/cdonairem/Documents/Workspace/proyecto_churn_prediction_oct_25/venv/lib/python3.12/site-packages/xgboost/training.py:199: UserWarning: [17:08:22] WARNING: /Users/runner/work/xgboost/xgboost/src/learner.cc:790: \n",
      "Parameters: { \"use_label_encoder\" } are not used.\n",
      "\n",
      "  bst.update(dtrain, iteration=i, fobj=obj)\n",
      "/Users/cdonairem/Documents/Workspace/proyecto_churn_prediction_oct_25/venv/lib/python3.12/site-packages/xgboost/training.py:199: UserWarning: [17:08:24] WARNING: /Users/runner/work/xgboost/xgboost/src/learner.cc:790: \n",
      "Parameters: { \"use_label_encoder\" } are not used.\n",
      "\n",
      "  bst.update(dtrain, iteration=i, fobj=obj)\n",
      "/Users/cdonairem/Documents/Workspace/proyecto_churn_prediction_oct_25/venv/lib/python3.12/site-packages/xgboost/training.py:199: UserWarning: [17:08:24] WARNING: /Users/runner/work/xgboost/xgboost/src/learner.cc:790: \n",
      "Parameters: { \"use_label_encoder\" } are not used.\n",
      "\n",
      "  bst.update(dtrain, iteration=i, fobj=obj)\n"
     ]
    },
    {
     "name": "stdout",
     "output_type": "stream",
     "text": [
      "Best params (XGBoost): {'subsample': 0.8, 'n_estimators': 200, 'max_depth': 7, 'learning_rate': 0.01, 'colsample_bytree': 1}\n",
      "Best score (f1): 0.818946596074006\n"
     ]
    }
   ],
   "source": [
    "from xgboost import XGBClassifier\n",
    "\n",
    "xgb = XGBClassifier(use_label_encoder=False, eval_metric='logloss')\n",
    "\n",
    "param_grid_xgb = {\n",
    "    'n_estimators': [100, 200],\n",
    "    'max_depth': [3, 5, 7],\n",
    "    'learning_rate': [0.01, 0.1, 0.3],\n",
    "    'subsample': [0.8, 1],\n",
    "    'colsample_bytree': [0.8, 1]\n",
    "}\n",
    "\n",
    "grid_xgb = RandomizedSearchCV(xgb, param_grid_xgb, scoring='f1', cv=5, n_jobs=-1)\n",
    "grid_xgb.fit(X_train, y_train)\n",
    "\n",
    "print(\"Best params (XGBoost):\", grid_xgb.best_params_)\n",
    "print(\"Best score (f1):\", grid_xgb.best_score_)"
   ]
  },
  {
   "cell_type": "code",
   "execution_count": 38,
   "metadata": {
    "id": "AhPuyUyU1oKh"
   },
   "outputs": [],
   "source": [
    "xgb_tuned = XGBClassifier(colsample_bytree=0.8, learning_rate=0.01, max_depth=7, n_estimators=200, subsample=0.8)\n",
    "xgb_tuned.fit(X_train, y_train)\n",
    "y_pred = xgb_tuned.predict(X_test)"
   ]
  },
  {
   "cell_type": "markdown",
   "metadata": {
    "id": "a-a75DeTWxM8"
   },
   "source": [
    "## Métricas evaluación"
   ]
  },
  {
   "cell_type": "code",
   "execution_count": 39,
   "metadata": {
    "colab": {
     "base_uri": "https://localhost:8080/",
     "height": 472
    },
    "executionInfo": {
     "elapsed": 296,
     "status": "ok",
     "timestamp": 1760984407843,
     "user": {
      "displayName": "Christian Donaire",
      "userId": "17475987603301019397"
     },
     "user_tz": -120
    },
    "id": "REfhO_gBW0Cv",
    "outputId": "c2278d05-ca53-4154-c019-2808037b59f6"
   },
   "outputs": [
    {
     "data": {
      "image/png": "[encoded data removed]",
      "text/plain": [
       "<Figure size 640x480 with 1 Axes>"
      ]
     },
     "metadata": {},
     "output_type": "display_data"
    }
   ],
   "source": [
    "from sklearn.metrics import roc_curve, auc\n",
    "import matplotlib.pyplot as plt\n",
    "\n",
    "y_proba = xgb_tuned.predict_proba(X_test)[:, 1]\n",
    "fpr, tpr, thresholds = roc_curve(y_test, y_proba)\n",
    "roc_auc = auc(fpr, tpr)\n",
    "\n",
    "plt.figure()\n",
    "plt.plot(fpr, tpr, label=f\"ROC curve (AUC = {roc_auc:.2f})\")\n",
    "plt.plot([0, 1], [0, 1], \"k--\")  # Diagonal\n",
    "plt.xlabel(\"False Positive Rate\")\n",
    "plt.ylabel(\"True Positive Rate\")\n",
    "plt.title(\"ROC Curve\")\n",
    "plt.legend(loc=\"lower right\")\n",
    "plt.grid()\n",
    "plt.show()"
   ]
  },
  {
   "cell_type": "code",
   "execution_count": 40,
   "metadata": {
    "colab": {
     "base_uri": "https://localhost:8080/",
     "height": 472
    },
    "executionInfo": {
     "elapsed": 308,
     "status": "ok",
     "timestamp": 1760984460850,
     "user": {
      "displayName": "Christian Donaire",
      "userId": "17475987603301019397"
     },
     "user_tz": -120
    },
    "id": "qdsf0wGSW2JX",
    "outputId": "5bd0e24c-0fbd-456d-9849-f29b9256f680"
   },
   "outputs": [
    {
     "data": {
      "image/png": "[encoded data removed]",
      "text/plain": [
       "<Figure size 640x480 with 2 Axes>"
      ]
     },
     "metadata": {},
     "output_type": "display_data"
    }
   ],
   "source": [
    "from sklearn.metrics import confusion_matrix, ConfusionMatrixDisplay\n",
    "\n",
    "ConfusionMatrixDisplay.from_predictions(y_test, y_pred)\n",
    "plt.title(\"Confusion Matrix\")\n",
    "plt.grid(False)\n",
    "plt.show()"
   ]
  },
  {
   "cell_type": "code",
   "execution_count": 41,
   "metadata": {
    "colab": {
     "base_uri": "https://localhost:8080/"
    },
    "executionInfo": {
     "elapsed": 14,
     "status": "ok",
     "timestamp": 1760984504317,
     "user": {
      "displayName": "Christian Donaire",
      "userId": "17475987603301019397"
     },
     "user_tz": -120
    },
    "id": "OPp2wlobW4C_",
    "outputId": "54a6148a-e9b3-4a78-a5e0-5a7a2c82ddf6"
   },
   "outputs": [
    {
     "name": "stdout",
     "output_type": "stream",
     "text": [
      "              precision    recall  f1-score   support\n",
      "\n",
      "           0       0.87      0.78      0.82      1035\n",
      "           1       0.53      0.67      0.59       374\n",
      "\n",
      "    accuracy                           0.75      1409\n",
      "   macro avg       0.70      0.73      0.71      1409\n",
      "weighted avg       0.78      0.75      0.76      1409\n",
      "\n"
     ]
    }
   ],
   "source": [
    "from sklearn.metrics import classification_report\n",
    "\n",
    "print(classification_report(y_test, y_pred))"
   ]
  },
  {
   "cell_type": "markdown",
   "metadata": {
    "id": "Dtb8INmiW7gl"
   },
   "source": [
    "## Mejorar con threshold"
   ]
  },
  {
   "cell_type": "code",
   "execution_count": 42,
   "metadata": {
    "colab": {
     "base_uri": "https://localhost:8080/",
     "height": 472
    },
    "executionInfo": {
     "elapsed": 372,
     "status": "ok",
     "timestamp": 1760976571978,
     "user": {
      "displayName": "Christian Donaire",
      "userId": "17475987603301019397"
     },
     "user_tz": -120
    },
    "id": "6RUuujH6W9sJ",
    "outputId": "8465c02e-95b0-4911-d38d-42c651f81742"
   },
   "outputs": [
    {
     "data": {
      "image/png": "[encoded data removed]",
      "text/plain": [
       "<Figure size 640x480 with 1 Axes>"
      ]
     },
     "metadata": {},
     "output_type": "display_data"
    }
   ],
   "source": [
    "# Paso 1: Obtener probabilidades\n",
    "y_proba = xgb_tuned.predict_proba(X_test)[:, 1]\n",
    "\n",
    "# Paso 2: Probar diferentes thresholds\n",
    "import numpy as np\n",
    "from sklearn.metrics import f1_score\n",
    "\n",
    "thresholds = np.arange(0.0, 1.0, 0.05)\n",
    "f1_scores = []\n",
    "\n",
    "for t in thresholds:\n",
    "    y_pred_thresh = (y_proba >= t).astype(int)\n",
    "    f1 = f1_score(y_test, y_pred_thresh)\n",
    "    f1_scores.append(f1)\n",
    "\n",
    "plt.plot(thresholds, f1_scores)\n",
    "plt.xlabel(\"Threshold\")\n",
    "plt.ylabel(\"F1 Score\")\n",
    "plt.title(\"F1 Score vs Threshold\")\n",
    "plt.grid()\n",
    "plt.show()"
   ]
  },
  {
   "cell_type": "code",
   "execution_count": 43,
   "metadata": {
    "colab": {
     "base_uri": "https://localhost:8080/",
     "height": 605
    },
    "executionInfo": {
     "elapsed": 241,
     "status": "ok",
     "timestamp": 1760984797134,
     "user": {
      "displayName": "Christian Donaire",
      "userId": "17475987603301019397"
     },
     "user_tz": -120
    },
    "id": "Vk84eynyXGqI",
    "outputId": "1cc4afbd-09a8-4463-9ad4-8214ca07b489"
   },
   "outputs": [
    {
     "name": "stdout",
     "output_type": "stream",
     "text": [
      "              precision    recall  f1-score   support\n",
      "\n",
      "           0       0.96      0.46      0.63      1035\n",
      "           1       0.39      0.95      0.55       374\n",
      "\n",
      "    accuracy                           0.59      1409\n",
      "   macro avg       0.68      0.71      0.59      1409\n",
      "weighted avg       0.81      0.59      0.61      1409\n",
      "\n"
     ]
    },
    {
     "data": {
      "image/png": "[encoded data removed]",
      "text/plain": [
       "<Figure size 640x480 with 2 Axes>"
      ]
     },
     "metadata": {},
     "output_type": "display_data"
    }
   ],
   "source": [
    "# Paso 3: Aplicar el mejor threshold\n",
    "# Supón que el mejor threshold es 0.35\n",
    "best_thresh = 0.20\n",
    "y_pred_thresh = (y_proba >= best_thresh).astype(int)\n",
    "\n",
    "# Evaluar con nuevo umbral\n",
    "print(classification_report(y_test, y_pred_thresh))\n",
    "ConfusionMatrixDisplay.from_predictions(y_test, y_pred_thresh)\n",
    "plt.show()"
   ]
  },
  {
   "cell_type": "markdown",
   "metadata": {
    "id": "Kam10UdzU25p"
   },
   "source": [
    "## Guardar modelo"
   ]
  },
  {
   "cell_type": "code",
   "execution_count": 44,
   "metadata": {
    "colab": {
     "base_uri": "https://localhost:8080/"
    },
    "executionInfo": {
     "elapsed": 99,
     "status": "ok",
     "timestamp": 1760976784587,
     "user": {
      "displayName": "Christian Donaire",
      "userId": "17475987603301019397"
     },
     "user_tz": -120
    },
    "id": "S0gXxZc2U4u1",
    "outputId": "5b01c183-baff-4a2f-c474-7e58e4ba7828"
   },
   "outputs": [
    {
     "name": "stdout",
     "output_type": "stream",
     "text": [
      "Modelo guardado en ../models/xgb_model.pkl\n"
     ]
    }
   ],
   "source": [
    "import joblib\n",
    "import os\n",
    "\n",
    "# Asegurarnos de que la carpeta models/ existe (ruta relativa desde notebooks/)\n",
    "os.makedirs(\"../models\", exist_ok=True)\n",
    "\n",
    "# Guardamos el modelo en un archivo dentro de la carpeta models/\n",
    "joblib.dump(xgb_tuned, \"../models/xgb_model.pkl\")\n",
    "print(\"Modelo guardado en ../models/xgb_model.pkl\")\n"
   ]
  },
  {
   "cell_type": "markdown",
   "metadata": {
    "id": "V2dPvCxtUraf"
   },
   "source": [
    "# Predicción de nuevos datos"
   ]
  },
  {
   "cell_type": "code",
   "execution_count": 45,
   "metadata": {
    "colab": {
     "base_uri": "https://localhost:8080/"
    },
    "executionInfo": {
     "elapsed": 38,
     "status": "ok",
     "timestamp": 1760977076052,
     "user": {
      "displayName": "Christian Donaire",
      "userId": "17475987603301019397"
     },
     "user_tz": -120
    },
    "id": "TIB8T-0FVVer",
    "outputId": "258ffb25-3c6b-4e99-cb67-7f0686ba2c17"
   },
   "outputs": [
    {
     "data": {
      "text/plain": [
       "array([0, 1, 0, ..., 1, 0, 0], shape=(1409,))"
      ]
     },
     "execution_count": 45,
     "metadata": {},
     "output_type": "execute_result"
    }
   ],
   "source": [
    "import joblib\n",
    "\n",
    "# Cargar el modelo desde archivo\n",
    "modelo = joblib.load(\"../models/xgb_model.pkl\")\n",
    "\n",
    "# Obtener probabilidades de clase positiva\n",
    "y_proba = modelo.predict_proba(X_test)[:, 1]\n",
    "\n",
    "# Aplicar threshold personalizado\n",
    "optimal_threshold = 0.25\n",
    "y_pred = (y_proba >= optimal_threshold).astype(int)\n",
    "\n",
    "# Resultado final\n",
    "y_pred\n",
    "\n",
    "# # Predicciones de clase sin threshold\n",
    "# y_pred = modelo.predict(X_test)\n",
    "\n",
    "# # Predicciones de probabilidad (opcional, para ROC AUC, etc.)\n",
    "# y_proba = modelo.predict_proba(X_test)[:, 1]\n",
    "\n",
    "# y_pred"
   ]
  },
  {
   "cell_type": "code",
   "execution_count": 46,
   "metadata": {
    "colab": {
     "base_uri": "https://localhost:8080/",
     "height": 605
    },
    "executionInfo": {
     "elapsed": 139,
     "status": "ok",
     "timestamp": 1760977068251,
     "user": {
      "displayName": "Christian Donaire",
      "userId": "17475987603301019397"
     },
     "user_tz": -120
    },
    "id": "tO1GfbkCaQGg",
    "outputId": "012386fa-ed39-44e3-8d12-5ae92f9b3b9c"
   },
   "outputs": [
    {
     "name": "stdout",
     "output_type": "stream",
     "text": [
      "              precision    recall  f1-score   support\n",
      "\n",
      "           0       0.95      0.52      0.67      1035\n",
      "           1       0.41      0.92      0.57       374\n",
      "\n",
      "    accuracy                           0.63      1409\n",
      "   macro avg       0.68      0.72      0.62      1409\n",
      "weighted avg       0.80      0.63      0.64      1409\n",
      "\n"
     ]
    },
    {
     "data": {
      "image/png": "[encoded data removed]",
      "text/plain": [
       "<Figure size 640x480 with 2 Axes>"
      ]
     },
     "metadata": {},
     "output_type": "display_data"
    }
   ],
   "source": [
    "# Evaluar con nuevo umbral\n",
    "print(classification_report(y_test, y_pred))\n",
    "ConfusionMatrixDisplay.from_predictions(y_test, y_pred)\n",
    "plt.show()"
   ]
  },
  {
   "cell_type": "markdown",
   "metadata": {
    "id": "VQSuqQFuQ7IQ"
   },
   "source": [
    "# Pipelines"
   ]
  },
  {
   "cell_type": "markdown",
   "metadata": {
    "id": "5hO__acFRFZz"
   },
   "source": [
    "## Training pipeline"
   ]
  },
  {
   "cell_type": "code",
   "execution_count": 47,
   "metadata": {
    "id": "4hs_hgqVREX6"
   },
   "outputs": [
    {
     "ename": "FileNotFoundError",
     "evalue": "[Errno 2] No such file or directory: '../data/train_processed.csv'",
     "output_type": "error",
     "traceback": [
      "\u001b[31m---------------------------------------------------------------------------\u001b[39m",
      "\u001b[31mFileNotFoundError\u001b[39m                         Traceback (most recent call last)",
      "\u001b[36mCell\u001b[39m\u001b[36m \u001b[39m\u001b[32mIn[47]\u001b[39m\u001b[32m, line 23\u001b[39m\n\u001b[32m     20\u001b[39m     \u001b[38;5;28mprint\u001b[39m(\u001b[33m\"\u001b[39m\u001b[33mModelo entrenado y guardado correctamente.\u001b[39m\u001b[33m\"\u001b[39m)\n\u001b[32m     22\u001b[39m \u001b[38;5;28;01mif\u001b[39;00m \u001b[34m__name__\u001b[39m == \u001b[33m\"\u001b[39m\u001b[33m__main__\u001b[39m\u001b[33m\"\u001b[39m:\n\u001b[32m---> \u001b[39m\u001b[32m23\u001b[39m     \u001b[43mtrain_model\u001b[49m\u001b[43m(\u001b[49m\u001b[43m)\u001b[49m\n",
      "\u001b[36mCell\u001b[39m\u001b[36m \u001b[39m\u001b[32mIn[47]\u001b[39m\u001b[32m, line 9\u001b[39m, in \u001b[36mtrain_model\u001b[39m\u001b[34m()\u001b[39m\n\u001b[32m      8\u001b[39m \u001b[38;5;28;01mdef\u001b[39;00m\u001b[38;5;250m \u001b[39m\u001b[34mtrain_model\u001b[39m():\n\u001b[32m----> \u001b[39m\u001b[32m9\u001b[39m     df = \u001b[43mpd\u001b[49m\u001b[43m.\u001b[49m\u001b[43mread_csv\u001b[49m\u001b[43m(\u001b[49m\u001b[33;43m\"\u001b[39;49m\u001b[33;43m../data/train_processed.csv\u001b[39;49m\u001b[33;43m\"\u001b[39;49m\u001b[43m)\u001b[49m\n\u001b[32m     11\u001b[39m     X = df.drop(\u001b[33m\"\u001b[39m\u001b[33mChurn\u001b[39m\u001b[33m\"\u001b[39m, axis=\u001b[32m1\u001b[39m)\n\u001b[32m     12\u001b[39m     y = df[\u001b[33m\"\u001b[39m\u001b[33mChurn\u001b[39m\u001b[33m\"\u001b[39m]\n",
      "\u001b[36mFile \u001b[39m\u001b[32m~/Documents/Workspace/proyecto_churn_prediction_oct_25/venv/lib/python3.12/site-packages/pandas/io/parsers/readers.py:1026\u001b[39m, in \u001b[36mread_csv\u001b[39m\u001b[34m(filepath_or_buffer, sep, delimiter, header, names, index_col, usecols, dtype, engine, converters, true_values, false_values, skipinitialspace, skiprows, skipfooter, nrows, na_values, keep_default_na, na_filter, verbose, skip_blank_lines, parse_dates, infer_datetime_format, keep_date_col, date_parser, date_format, dayfirst, cache_dates, iterator, chunksize, compression, thousands, decimal, lineterminator, quotechar, quoting, doublequote, escapechar, comment, encoding, encoding_errors, dialect, on_bad_lines, delim_whitespace, low_memory, memory_map, float_precision, storage_options, dtype_backend)\u001b[39m\n\u001b[32m   1013\u001b[39m kwds_defaults = _refine_defaults_read(\n\u001b[32m   1014\u001b[39m     dialect,\n\u001b[32m   1015\u001b[39m     delimiter,\n\u001b[32m   (...)\u001b[39m\u001b[32m   1022\u001b[39m     dtype_backend=dtype_backend,\n\u001b[32m   1023\u001b[39m )\n\u001b[32m   1024\u001b[39m kwds.update(kwds_defaults)\n\u001b[32m-> \u001b[39m\u001b[32m1026\u001b[39m \u001b[38;5;28;01mreturn\u001b[39;00m \u001b[43m_read\u001b[49m\u001b[43m(\u001b[49m\u001b[43mfilepath_or_buffer\u001b[49m\u001b[43m,\u001b[49m\u001b[43m \u001b[49m\u001b[43mkwds\u001b[49m\u001b[43m)\u001b[49m\n",
      "\u001b[36mFile \u001b[39m\u001b[32m~/Documents/Workspace/proyecto_churn_prediction_oct_25/venv/lib/python3.12/site-packages/pandas/io/parsers/readers.py:620\u001b[39m, in \u001b[36m_read\u001b[39m\u001b[34m(filepath_or_buffer, kwds)\u001b[39m\n\u001b[32m    617\u001b[39m _validate_names(kwds.get(\u001b[33m\"\u001b[39m\u001b[33mnames\u001b[39m\u001b[33m\"\u001b[39m, \u001b[38;5;28;01mNone\u001b[39;00m))\n\u001b[32m    619\u001b[39m \u001b[38;5;66;03m# Create the parser.\u001b[39;00m\n\u001b[32m--> \u001b[39m\u001b[32m620\u001b[39m parser = \u001b[43mTextFileReader\u001b[49m\u001b[43m(\u001b[49m\u001b[43mfilepath_or_buffer\u001b[49m\u001b[43m,\u001b[49m\u001b[43m \u001b[49m\u001b[43m*\u001b[49m\u001b[43m*\u001b[49m\u001b[43mkwds\u001b[49m\u001b[43m)\u001b[49m\n\u001b[32m    622\u001b[39m \u001b[38;5;28;01mif\u001b[39;00m chunksize \u001b[38;5;129;01mor\u001b[39;00m iterator:\n\u001b[32m    623\u001b[39m     \u001b[38;5;28;01mreturn\u001b[39;00m parser\n",
      "\u001b[36mFile \u001b[39m\u001b[32m~/Documents/Workspace/proyecto_churn_prediction_oct_25/venv/lib/python3.12/site-packages/pandas/io/parsers/readers.py:1620\u001b[39m, in \u001b[36mTextFileReader.__init__\u001b[39m\u001b[34m(self, f, engine, **kwds)\u001b[39m\n\u001b[32m   1617\u001b[39m     \u001b[38;5;28mself\u001b[39m.options[\u001b[33m\"\u001b[39m\u001b[33mhas_index_names\u001b[39m\u001b[33m\"\u001b[39m] = kwds[\u001b[33m\"\u001b[39m\u001b[33mhas_index_names\u001b[39m\u001b[33m\"\u001b[39m]\n\u001b[32m   1619\u001b[39m \u001b[38;5;28mself\u001b[39m.handles: IOHandles | \u001b[38;5;28;01mNone\u001b[39;00m = \u001b[38;5;28;01mNone\u001b[39;00m\n\u001b[32m-> \u001b[39m\u001b[32m1620\u001b[39m \u001b[38;5;28mself\u001b[39m._engine = \u001b[38;5;28;43mself\u001b[39;49m\u001b[43m.\u001b[49m\u001b[43m_make_engine\u001b[49m\u001b[43m(\u001b[49m\u001b[43mf\u001b[49m\u001b[43m,\u001b[49m\u001b[43m \u001b[49m\u001b[38;5;28;43mself\u001b[39;49m\u001b[43m.\u001b[49m\u001b[43mengine\u001b[49m\u001b[43m)\u001b[49m\n",
      "\u001b[36mFile \u001b[39m\u001b[32m~/Documents/Workspace/proyecto_churn_prediction_oct_25/venv/lib/python3.12/site-packages/pandas/io/parsers/readers.py:1880\u001b[39m, in \u001b[36mTextFileReader._make_engine\u001b[39m\u001b[34m(self, f, engine)\u001b[39m\n\u001b[32m   1878\u001b[39m     \u001b[38;5;28;01mif\u001b[39;00m \u001b[33m\"\u001b[39m\u001b[33mb\u001b[39m\u001b[33m\"\u001b[39m \u001b[38;5;129;01mnot\u001b[39;00m \u001b[38;5;129;01min\u001b[39;00m mode:\n\u001b[32m   1879\u001b[39m         mode += \u001b[33m\"\u001b[39m\u001b[33mb\u001b[39m\u001b[33m\"\u001b[39m\n\u001b[32m-> \u001b[39m\u001b[32m1880\u001b[39m \u001b[38;5;28mself\u001b[39m.handles = \u001b[43mget_handle\u001b[49m\u001b[43m(\u001b[49m\n\u001b[32m   1881\u001b[39m \u001b[43m    \u001b[49m\u001b[43mf\u001b[49m\u001b[43m,\u001b[49m\n\u001b[32m   1882\u001b[39m \u001b[43m    \u001b[49m\u001b[43mmode\u001b[49m\u001b[43m,\u001b[49m\n\u001b[32m   1883\u001b[39m \u001b[43m    \u001b[49m\u001b[43mencoding\u001b[49m\u001b[43m=\u001b[49m\u001b[38;5;28;43mself\u001b[39;49m\u001b[43m.\u001b[49m\u001b[43moptions\u001b[49m\u001b[43m.\u001b[49m\u001b[43mget\u001b[49m\u001b[43m(\u001b[49m\u001b[33;43m\"\u001b[39;49m\u001b[33;43mencoding\u001b[39;49m\u001b[33;43m\"\u001b[39;49m\u001b[43m,\u001b[49m\u001b[43m \u001b[49m\u001b[38;5;28;43;01mNone\u001b[39;49;00m\u001b[43m)\u001b[49m\u001b[43m,\u001b[49m\n\u001b[32m   1884\u001b[39m \u001b[43m    \u001b[49m\u001b[43mcompression\u001b[49m\u001b[43m=\u001b[49m\u001b[38;5;28;43mself\u001b[39;49m\u001b[43m.\u001b[49m\u001b[43moptions\u001b[49m\u001b[43m.\u001b[49m\u001b[43mget\u001b[49m\u001b[43m(\u001b[49m\u001b[33;43m\"\u001b[39;49m\u001b[33;43mcompression\u001b[39;49m\u001b[33;43m\"\u001b[39;49m\u001b[43m,\u001b[49m\u001b[43m \u001b[49m\u001b[38;5;28;43;01mNone\u001b[39;49;00m\u001b[43m)\u001b[49m\u001b[43m,\u001b[49m\n\u001b[32m   1885\u001b[39m \u001b[43m    \u001b[49m\u001b[43mmemory_map\u001b[49m\u001b[43m=\u001b[49m\u001b[38;5;28;43mself\u001b[39;49m\u001b[43m.\u001b[49m\u001b[43moptions\u001b[49m\u001b[43m.\u001b[49m\u001b[43mget\u001b[49m\u001b[43m(\u001b[49m\u001b[33;43m\"\u001b[39;49m\u001b[33;43mmemory_map\u001b[39;49m\u001b[33;43m\"\u001b[39;49m\u001b[43m,\u001b[49m\u001b[43m \u001b[49m\u001b[38;5;28;43;01mFalse\u001b[39;49;00m\u001b[43m)\u001b[49m\u001b[43m,\u001b[49m\n\u001b[32m   1886\u001b[39m \u001b[43m    \u001b[49m\u001b[43mis_text\u001b[49m\u001b[43m=\u001b[49m\u001b[43mis_text\u001b[49m\u001b[43m,\u001b[49m\n\u001b[32m   1887\u001b[39m \u001b[43m    \u001b[49m\u001b[43merrors\u001b[49m\u001b[43m=\u001b[49m\u001b[38;5;28;43mself\u001b[39;49m\u001b[43m.\u001b[49m\u001b[43moptions\u001b[49m\u001b[43m.\u001b[49m\u001b[43mget\u001b[49m\u001b[43m(\u001b[49m\u001b[33;43m\"\u001b[39;49m\u001b[33;43mencoding_errors\u001b[39;49m\u001b[33;43m\"\u001b[39;49m\u001b[43m,\u001b[49m\u001b[43m \u001b[49m\u001b[33;43m\"\u001b[39;49m\u001b[33;43mstrict\u001b[39;49m\u001b[33;43m\"\u001b[39;49m\u001b[43m)\u001b[49m\u001b[43m,\u001b[49m\n\u001b[32m   1888\u001b[39m \u001b[43m    \u001b[49m\u001b[43mstorage_options\u001b[49m\u001b[43m=\u001b[49m\u001b[38;5;28;43mself\u001b[39;49m\u001b[43m.\u001b[49m\u001b[43moptions\u001b[49m\u001b[43m.\u001b[49m\u001b[43mget\u001b[49m\u001b[43m(\u001b[49m\u001b[33;43m\"\u001b[39;49m\u001b[33;43mstorage_options\u001b[39;49m\u001b[33;43m\"\u001b[39;49m\u001b[43m,\u001b[49m\u001b[43m \u001b[49m\u001b[38;5;28;43;01mNone\u001b[39;49;00m\u001b[43m)\u001b[49m\u001b[43m,\u001b[49m\n\u001b[32m   1889\u001b[39m \u001b[43m\u001b[49m\u001b[43m)\u001b[49m\n\u001b[32m   1890\u001b[39m \u001b[38;5;28;01massert\u001b[39;00m \u001b[38;5;28mself\u001b[39m.handles \u001b[38;5;129;01mis\u001b[39;00m \u001b[38;5;129;01mnot\u001b[39;00m \u001b[38;5;28;01mNone\u001b[39;00m\n\u001b[32m   1891\u001b[39m f = \u001b[38;5;28mself\u001b[39m.handles.handle\n",
      "\u001b[36mFile \u001b[39m\u001b[32m~/Documents/Workspace/proyecto_churn_prediction_oct_25/venv/lib/python3.12/site-packages/pandas/io/common.py:873\u001b[39m, in \u001b[36mget_handle\u001b[39m\u001b[34m(path_or_buf, mode, encoding, compression, memory_map, is_text, errors, storage_options)\u001b[39m\n\u001b[32m    868\u001b[39m \u001b[38;5;28;01melif\u001b[39;00m \u001b[38;5;28misinstance\u001b[39m(handle, \u001b[38;5;28mstr\u001b[39m):\n\u001b[32m    869\u001b[39m     \u001b[38;5;66;03m# Check whether the filename is to be opened in binary mode.\u001b[39;00m\n\u001b[32m    870\u001b[39m     \u001b[38;5;66;03m# Binary mode does not support 'encoding' and 'newline'.\u001b[39;00m\n\u001b[32m    871\u001b[39m     \u001b[38;5;28;01mif\u001b[39;00m ioargs.encoding \u001b[38;5;129;01mand\u001b[39;00m \u001b[33m\"\u001b[39m\u001b[33mb\u001b[39m\u001b[33m\"\u001b[39m \u001b[38;5;129;01mnot\u001b[39;00m \u001b[38;5;129;01min\u001b[39;00m ioargs.mode:\n\u001b[32m    872\u001b[39m         \u001b[38;5;66;03m# Encoding\u001b[39;00m\n\u001b[32m--> \u001b[39m\u001b[32m873\u001b[39m         handle = \u001b[38;5;28;43mopen\u001b[39;49m\u001b[43m(\u001b[49m\n\u001b[32m    874\u001b[39m \u001b[43m            \u001b[49m\u001b[43mhandle\u001b[49m\u001b[43m,\u001b[49m\n\u001b[32m    875\u001b[39m \u001b[43m            \u001b[49m\u001b[43mioargs\u001b[49m\u001b[43m.\u001b[49m\u001b[43mmode\u001b[49m\u001b[43m,\u001b[49m\n\u001b[32m    876\u001b[39m \u001b[43m            \u001b[49m\u001b[43mencoding\u001b[49m\u001b[43m=\u001b[49m\u001b[43mioargs\u001b[49m\u001b[43m.\u001b[49m\u001b[43mencoding\u001b[49m\u001b[43m,\u001b[49m\n\u001b[32m    877\u001b[39m \u001b[43m            \u001b[49m\u001b[43merrors\u001b[49m\u001b[43m=\u001b[49m\u001b[43merrors\u001b[49m\u001b[43m,\u001b[49m\n\u001b[32m    878\u001b[39m \u001b[43m            \u001b[49m\u001b[43mnewline\u001b[49m\u001b[43m=\u001b[49m\u001b[33;43m\"\u001b[39;49m\u001b[33;43m\"\u001b[39;49m\u001b[43m,\u001b[49m\n\u001b[32m    879\u001b[39m \u001b[43m        \u001b[49m\u001b[43m)\u001b[49m\n\u001b[32m    880\u001b[39m     \u001b[38;5;28;01melse\u001b[39;00m:\n\u001b[32m    881\u001b[39m         \u001b[38;5;66;03m# Binary mode\u001b[39;00m\n\u001b[32m    882\u001b[39m         handle = \u001b[38;5;28mopen\u001b[39m(handle, ioargs.mode)\n",
      "\u001b[31mFileNotFoundError\u001b[39m: [Errno 2] No such file or directory: '../data/train_processed.csv'"
     ]
    }
   ],
   "source": [
    "# training_pipeline.py\n",
    "\n",
    "import joblib\n",
    "from sklearn.ensemble import RandomForestClassifier\n",
    "from sklearn.model_selection import train_test_split\n",
    "import pandas as pd\n",
    "\n",
    "def train_model():\n",
    "    df = pd.read_csv(\"../data/train_processed.csv\")\n",
    "\n",
    "    X = df.drop(\"Churn\", axis=1)\n",
    "    y = df[\"Churn\"]\n",
    "\n",
    "    X_train, X_val, y_train, y_val = train_test_split(X, y, stratify=y, test_size=0.2, random_state=42)\n",
    "\n",
    "    model = RandomForestClassifier(n_estimators=200, max_depth=6, random_state=42)\n",
    "    model.fit(X_train, y_train)\n",
    "\n",
    "    joblib.dump(model, \"../models/final_model.pkl\")\n",
    "    print(\"Modelo entrenado y guardado correctamente.\")\n",
    "\n",
    "if __name__ == \"__main__\":\n",
    "    train_model()\n"
   ]
  },
  {
   "cell_type": "markdown",
   "metadata": {
    "id": "4rjYRs7GRSJ-"
   },
   "source": [
    "## Inference Pipeline"
   ]
  },
  {
   "cell_type": "code",
   "execution_count": null,
   "metadata": {
    "id": "2pxnawoLRTmE"
   },
   "outputs": [],
   "source": [
    "# inference_pipeline.py\n",
    "\n",
    "import pandas as pd\n",
    "import joblib\n",
    "\n",
    "def predict_new_data(new_data_csv):\n",
    "    # Cargar el modelo desde archivo\n",
    "    modelo = joblib.load(\"xgb_model.pkl\")\n",
    "\n",
    "    # Obtener probabilidades de clase positiva\n",
    "    y_proba = modelo.predict_proba(new_data_csv)[:, 1]\n",
    "\n",
    "    # Aplicar threshold personalizado\n",
    "    optimal_threshold = 0.25\n",
    "    y_pred = (y_proba >= optimal_threshold).astype(int)\n",
    "\n",
    "    # Resultado final\n",
    "    y_pred\n",
    "\n",
    "    return pd.DataFrame({\n",
    "        \"Prediction\": y_pred,\n",
    "        \"Probability\":y_proba\n",
    "    })\n",
    "\n",
    "# Ejemplo\n",
    "df_preds = predict_new_data(\"data/new_data_processed.csv\")\n",
    "print(df_preds.head())\n"
   ]
  }
 ],
 "metadata": {
  "colab": {
   "authorship_tag": "ABX9TyNGkvCWS4ZZhkRCfk7Hw2KC",
   "provenance": []
  },
  "kernelspec": {
   "display_name": "venv",
   "language": "python",
   "name": "python3"
  },
  "language_info": {
   "codemirror_mode": {
    "name": "ipython",
    "version": 3
   },
   "file_extension": ".py",
   "mimetype": "text/x-python",
   "name": "python",
   "nbconvert_exporter": "python",
   "pygments_lexer": "ipython3",
   "version": "3.12.3"
  }
 },
 "nbformat": 4,
 "nbformat_minor": 0
}
